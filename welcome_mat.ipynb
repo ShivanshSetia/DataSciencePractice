{
 "cells": [
  {
   "cell_type": "markdown",
   "metadata": {},
   "source": [
    "Mr. Vincent works in a door mat manufacturing company. One day, he designed a new door mat with the following specifications:\n",
    "\n",
    "Mat size must be X. ( is an odd natural number, and  is  times .)\n",
    "The design should have 'WELCOME' written in the center.\n",
    "The design pattern should only use |, . and - characters."
   ]
  },
  {
   "cell_type": "code",
   "execution_count": 7,
   "metadata": {},
   "outputs": [
    {
     "name": "stdout",
     "output_type": "stream",
     "text": [
      "---------.|.---------\n",
      "------.|..|..|.------\n",
      "---.|..|..|..|..|.---\n",
      "-------WELCOME-------\n",
      "---.|..|..|..|..|.---\n",
      "------.|..|..|.------\n",
      "---------.|.---------\n"
     ]
    }
   ],
   "source": [
    "x,y = 7,21\n",
    "x,y = int(x),int(y)\n",
    "\n",
    "if y != 3*x:\n",
    "    print(\"Needed something else\")\n",
    "\n",
    "bar = \".|.\"\n",
    "dash = \"-\"\n",
    "obj = \"WELCOME\"\n",
    "# print(x,y)\n",
    "odds  = [i for i in range(1,x,2)]\n",
    "for i in range(x):\n",
    "    # print(i)\n",
    "    if i != int(x/2) and i<x/2:\n",
    "        q = odds[i]\n",
    "        dashnum = y - q*3\n",
    "        \n",
    "        show = int(dashnum/2)  *dash + bar*q + int(dashnum/2)*dash\n",
    "        q=q+2\n",
    "    elif i == int(x/2):\n",
    "        dashnum = y-7\n",
    "        show  = int(dashnum/2)*dash + obj + int(dashnum/2)*dash\n",
    "    else :\n",
    "        q = q-2\n",
    "        dashnum = y - q*3\n",
    "        show = int(dashnum/2)*dash + bar*q + int(dashnum/2)*dash \n",
    "    print(show)"
   ]
  },
  {
   "cell_type": "code",
   "execution_count": null,
   "metadata": {},
   "outputs": [],
   "source": []
  }
 ],
 "metadata": {
  "kernelspec": {
   "display_name": "Python 3",
   "language": "python",
   "name": "python3"
  },
  "language_info": {
   "codemirror_mode": {
    "name": "ipython",
    "version": 3
   },
   "file_extension": ".py",
   "mimetype": "text/x-python",
   "name": "python",
   "nbconvert_exporter": "python",
   "pygments_lexer": "ipython3",
   "version": "3.9.1"
  },
  "orig_nbformat": 4
 },
 "nbformat": 4,
 "nbformat_minor": 2
}
