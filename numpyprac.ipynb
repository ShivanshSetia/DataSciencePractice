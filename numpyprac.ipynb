{
 "cells": [
  {
   "cell_type": "code",
   "execution_count": null,
   "metadata": {},
   "outputs": [],
   "source": []
  },
  {
   "attachments": {},
   "cell_type": "markdown",
   "metadata": {},
   "source": [
    "You are given a 2-D array with dimensions X.\n",
    "Your task is to perform the min function over axis  and then find the max of that.\n",
    "\n",
    "Input Format\n",
    "\n",
    "The first line of input contains the space separated values of  and .\n",
    "The next  lines contains  space separated integers.\n",
    "\n",
    "Output Format\n",
    "\n",
    "Compute the min along axis  and then print the max of that result."
   ]
  },
  {
   "cell_type": "code",
   "execution_count": 12,
   "metadata": {},
   "outputs": [
    {
     "name": "stdout",
     "output_type": "stream",
     "text": [
      "[[1, 2], [2, 3], [4, 5], [6, 7]]\n",
      "6\n"
     ]
    }
   ],
   "source": [
    "import numpy as np\n",
    "\n",
    "x,y = [int(i) for i in input().split()]\n",
    "inp = []\n",
    "for i in range(x):\n",
    "    \n",
    "    y = [int(j) for j in input().split()]\n",
    "    inp.append(y)\n",
    "print(inp)\n",
    "print(  np.max(np.min( inp,axis=1 ) )  )"
   ]
  },
  {
   "attachments": {},
   "cell_type": "markdown",
   "metadata": {},
   "source": [
    "Task\n",
    "\n",
    "You are given a 2-D array of size X.\n",
    "Your task is to find:\n",
    "\n",
    "The mean along axis \n",
    "The var along axis \n",
    "The std along axis \n",
    "Input Format\n",
    "\n",
    "The first line contains the space separated values of  and .\n",
    "The next  lines contains  space separated integers.\n",
    "\n",
    "Output Format\n",
    "\n",
    "First, print the mean.\n",
    "Second, print the var.\n",
    "Third, print the std."
   ]
  },
  {
   "cell_type": "code",
   "execution_count": null,
   "metadata": {},
   "outputs": [],
   "source": [
    "import numpy as np\n",
    "\n",
    "x,y = [int(i) for i in input().split()]\n",
    "inp = []\n",
    "for i in range(x):\n",
    "    \n",
    "    y = [int(j) for j in input().split()]\n",
    "    inp.append(y)\n",
    "\n",
    "    \n",
    "print(  np.mean(inp,axis=1)  )\n",
    "print( np.var(inp,axis=0  ) )\n",
    "print( round(np.std(inp,axis = None   ),11)  )"
   ]
  },
  {
   "attachments": {},
   "cell_type": "markdown",
   "metadata": {},
   "source": [
    "Task\n",
    "\n",
    "You are given two arrays  and . Both have dimensions of X.\n",
    "Your task is to compute their matrix product.\n",
    "\n",
    "Input Format\n",
    "\n",
    "The first line contains the integer .\n",
    "The next  lines contains  space separated integers of array .\n",
    "The following  lines contains  space separated integers of array .\n",
    "\n",
    "Output Format\n",
    "\n",
    "Print the matrix multiplication of  and ."
   ]
  },
  {
   "cell_type": "code",
   "execution_count": null,
   "metadata": {},
   "outputs": [],
   "source": [
    "import numpy as np\n",
    "\n",
    "x  = int(input())\n",
    "inp1 = []\n",
    "inp2 = []\n",
    "for i in range(x):\n",
    "    \n",
    "    y = [int(j) for j in input().split()]\n",
    "    inp1.append(y)\n",
    "\n",
    "for i in range(x):\n",
    "\n",
    "    y = [int(j) for j in input().split()]\n",
    "    inp2.append(y)\n",
    "\n",
    "\n",
    "print( np.dot( inp1,inp2 ) )"
   ]
  },
  {
   "attachments": {},
   "cell_type": "markdown",
   "metadata": {},
   "source": [
    "Task\n",
    "\n",
    "You are given two arrays:  and .\n",
    "Your task is to compute their inner and outer product.\n",
    "\n",
    "Input Format\n",
    "\n",
    "The first line contains the space separated elements of array .\n",
    "The second line contains the space separated elements of array .\n",
    "\n",
    "Output Format\n",
    "\n",
    "First, print the inner product.\n",
    "Second, print the outer product."
   ]
  },
  {
   "cell_type": "code",
   "execution_count": 13,
   "metadata": {},
   "outputs": [
    {
     "name": "stdout",
     "output_type": "stream",
     "text": [
      "0.0\n",
      "[]\n"
     ]
    }
   ],
   "source": [
    "import numpy as np\n",
    "\n",
    "\n",
    "\n",
    "inp1 = [int(j) for j in input().split()]\n",
    "inp2 = [int(j) for j in input().split()]\n",
    "\n",
    "print(np.inner(inp1,inp2))\n",
    "print(np.outer(inp1,inp2))"
   ]
  },
  {
   "attachments": {},
   "cell_type": "markdown",
   "metadata": {},
   "source": [
    "\n",
    "Task\n",
    "\n",
    "You are given the coefficients of a polynomial .\n",
    "Your task is to find the value of  at point .\n",
    "\n",
    "Input Format\n",
    "\n",
    "The first line contains the space separated value of the coefficients in .\n",
    "The second line contains the value of .\n",
    "\n",
    "Output Format\n",
    "\n",
    "Print the desired value."
   ]
  },
  {
   "cell_type": "code",
   "execution_count": null,
   "metadata": {},
   "outputs": [],
   "source": [
    "import numpy as np\n",
    "\n",
    "inp1 = [float(j) for j in input().split()]\n",
    "x = int(input())\n",
    "\n",
    "print( np.polyval(inp1,x)  )"
   ]
  },
  {
   "attachments": {},
   "cell_type": "markdown",
   "metadata": {},
   "source": [
    "You are given a square matrix  with dimensions X. Your task is to find the determinant. Note: Round the answer to 2 places after the decimal."
   ]
  },
  {
   "cell_type": "code",
   "execution_count": null,
   "metadata": {},
   "outputs": [],
   "source": [
    "import numpy as np\n",
    "\n",
    "n = int(input())\n",
    "inp = []\n",
    "for i in range(n):\n",
    "    inp.append( [float(j) for j in input().split()] )\n",
    "    \n",
    "print(round(np.linalg.det(inp),2)  )"
   ]
  }
 ],
 "metadata": {
  "kernelspec": {
   "display_name": "Python 3",
   "language": "python",
   "name": "python3"
  },
  "language_info": {
   "codemirror_mode": {
    "name": "ipython",
    "version": 3
   },
   "file_extension": ".py",
   "mimetype": "text/x-python",
   "name": "python",
   "nbconvert_exporter": "python",
   "pygments_lexer": "ipython3",
   "version": "3.9.1"
  },
  "orig_nbformat": 4
 },
 "nbformat": 4,
 "nbformat_minor": 2
}
