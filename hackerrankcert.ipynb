{
 "cells": [
  {
   "attachments": {},
   "cell_type": "markdown",
   "metadata": {},
   "source": [
    "Python Missing Characters"
   ]
  },
  {
   "cell_type": "code",
   "execution_count": null,
   "metadata": {},
   "outputs": [],
   "source": [
    "import string as st\n",
    "def missingCharacters(s):\n",
    "    # Write your code here\n",
    "    alpha = list(st.ascii_lowercase)\n",
    "    \n",
    "    digits = [ str(i) for i in range(10)  ]\n",
    "\n",
    "    for  i in s:\n",
    "        if i in alpha:\n",
    "            alpha.remove(i)\n",
    "        if i in digits:\n",
    "            digits.remove(i)\n",
    "    \n",
    "    final = \"\".join(digits) + \"\".join(alpha)\n",
    "    return final"
   ]
  },
  {
   "attachments": {},
   "cell_type": "markdown",
   "metadata": {},
   "source": [
    "Python String Transformation"
   ]
  },
  {
   "cell_type": "code",
   "execution_count": null,
   "metadata": {},
   "outputs": [],
   "source": [
    "#!/bin/python3\n",
    "\n",
    "import math\n",
    "import os\n",
    "import random\n",
    "import re\n",
    "import sys\n",
    "\n",
    "\n",
    "\n",
    "#\n",
    "# Complete the 'transformSentence' function below.\n",
    "#\n",
    "# The function is expected to return a STRING.\n",
    "# The function accepts STRING sentence as parameter.\n",
    "#\n",
    "import string as st\n",
    "def transformSentence(sentence):\n",
    "    # Write your code here\n",
    "    alpha = list(st.ascii_lowercase)\n",
    "    final = []\n",
    "    count = 0\n",
    "    for x in sentence:\n",
    "        if count == 0  :\n",
    "            count = count +1\n",
    "            final.append(x)\n",
    "            y = x\n",
    "            continue\n",
    "        if x == \" \":\n",
    "            count = 0\n",
    "            final.append(x)\n",
    "            continue \n",
    "        \n",
    "        if alpha.index(y.lower()) < alpha.index(x.lower()):\n",
    "            final.append(x.upper()  )\n",
    "            y = x\n",
    "        elif alpha.index(y.lower()) > alpha.index(x.lower()):\n",
    "            final.append(x.lower()  )\n",
    "            y = x\n",
    "        elif alpha.index(y.lower()) == alpha.index(x.lower()):\n",
    "            final.append(x)\n",
    "            y = x\n",
    "    return \"\".join(final)\n",
    "        \n",
    "            \n",
    "if __name__ == '__main__':\n",
    "    fptr = open(os.environ['OUTPUT_PATH'], 'w')\n",
    "\n",
    "    sentence = input()\n",
    "\n",
    "    result = transformSentence(sentence)\n",
    "\n",
    "    fptr.write(result + '\\n')\n",
    "\n",
    "    fptr.close()\n"
   ]
  }
 ],
 "metadata": {
  "kernelspec": {
   "display_name": "Python 3",
   "language": "python",
   "name": "python3"
  },
  "language_info": {
   "codemirror_mode": {
    "name": "ipython",
    "version": 3
   },
   "file_extension": ".py",
   "mimetype": "text/x-python",
   "name": "python",
   "nbconvert_exporter": "python",
   "pygments_lexer": "ipython3",
   "version": "3.9.1"
  },
  "orig_nbformat": 4
 },
 "nbformat": 4,
 "nbformat_minor": 2
}
