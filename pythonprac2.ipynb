{
 "cells": [
  {
   "cell_type": "code",
   "execution_count": null,
   "metadata": {},
   "outputs": [],
   "source": []
  },
  {
   "attachments": {},
   "cell_type": "markdown",
   "metadata": {},
   "source": [
    "Input Format\n",
    "\n",
    "The first line of input contains an integer , the number of mobile phone numbers.\n",
    " lines follow each containing a mobile number.\n",
    "\n",
    "Output Format\n",
    "\n",
    "Print  mobile numbers on separate lines in the required format."
   ]
  },
  {
   "cell_type": "code",
   "execution_count": 13,
   "metadata": {},
   "outputs": [
    {
     "name": "stdout",
     "output_type": "stream",
     "text": [
      "+91 12345 67895\n",
      "+91 45678 92315\n"
     ]
    }
   ],
   "source": [
    "def wrapper(f):\n",
    "    def fun(l):\n",
    "        # complete the function\n",
    "        q = []\n",
    "        for i in l:\n",
    "            if len(i) >10:\n",
    "                x = len(i) - 10\n",
    "                i = i[x:]\n",
    "            q.append(i)\n",
    "        q = sorted(q)    \n",
    "        for i in q:\n",
    "            print(\"+91\",i[:5],i[5:] )\n",
    "        \n",
    "    return fun\n",
    "\n",
    "@wrapper\n",
    "def sort_phone(l):\n",
    "    print(*sorted(l), sep='\\n')\n",
    "\n",
    "if __name__ == '__main__':\n",
    "    l = [input() for _ in range(int(input()))]\n",
    "    sort_phone(l) "
   ]
  },
  {
   "attachments": {},
   "cell_type": "markdown",
   "metadata": {},
   "source": [
    "Output the space separated tuples of the cartesian product.\n",
    "\n"
   ]
  },
  {
   "cell_type": "code",
   "execution_count": 13,
   "metadata": {},
   "outputs": [
    {
     "name": "stdout",
     "output_type": "stream",
     "text": [
      "(1, 3) (1, 4) (2, 3) (2, 4)\n"
     ]
    }
   ],
   "source": [
    "from itertools import product\n",
    "inp1 =  [int(j) for j in input().split()]\n",
    "inp2 =  [int(j) for j in input().split()] \n",
    "\n",
    "\n",
    "print(  *list(product(inp1,inp2)  )  )\n"
   ]
  },
  {
   "cell_type": "code",
   "execution_count": null,
   "metadata": {},
   "outputs": [],
   "source": []
  },
  {
   "cell_type": "code",
   "execution_count": null,
   "metadata": {},
   "outputs": [],
   "source": []
  }
 ],
 "metadata": {
  "kernelspec": {
   "display_name": "Python 3",
   "language": "python",
   "name": "python3"
  },
  "language_info": {
   "codemirror_mode": {
    "name": "ipython",
    "version": 3
   },
   "file_extension": ".py",
   "mimetype": "text/x-python",
   "name": "python",
   "nbconvert_exporter": "python",
   "pygments_lexer": "ipython3",
   "version": "3.9.1"
  },
  "orig_nbformat": 4
 },
 "nbformat": 4,
 "nbformat_minor": 2
}
