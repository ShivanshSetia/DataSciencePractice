{
 "cells": [
  {
   "cell_type": "code",
   "execution_count": null,
   "metadata": {},
   "outputs": [],
   "source": []
  },
  {
   "attachments": {},
   "cell_type": "markdown",
   "metadata": {},
   "source": [
    "Input Format\n",
    "\n",
    "The first line of input contains an integer , the number of mobile phone numbers.\n",
    " lines follow each containing a mobile number.\n",
    "\n",
    "Output Format\n",
    "\n",
    "Print  mobile numbers on separate lines in the required format."
   ]
  },
  {
   "cell_type": "code",
   "execution_count": 13,
   "metadata": {},
   "outputs": [
    {
     "name": "stdout",
     "output_type": "stream",
     "text": [
      "+91 12345 67895\n",
      "+91 45678 92315\n"
     ]
    }
   ],
   "source": [
    "def wrapper(f):\n",
    "    def fun(l):\n",
    "        # complete the function\n",
    "        q = []\n",
    "        for i in l:\n",
    "            if len(i) >10:\n",
    "                x = len(i) - 10\n",
    "                i = i[x:]\n",
    "            q.append(i)\n",
    "        q = sorted(q)    \n",
    "        for i in q:\n",
    "            print(\"+91\",i[:5],i[5:] )\n",
    "        \n",
    "    return fun\n",
    "\n",
    "@wrapper\n",
    "def sort_phone(l):\n",
    "    print(*sorted(l), sep='\\n')\n",
    "\n",
    "if __name__ == '__main__':\n",
    "    l = [input() for _ in range(int(input()))]\n",
    "    sort_phone(l) "
   ]
  },
  {
   "attachments": {},
   "cell_type": "markdown",
   "metadata": {},
   "source": [
    "Output the space separated tuples of the cartesian product.\n",
    "\n"
   ]
  },
  {
   "cell_type": "code",
   "execution_count": 13,
   "metadata": {},
   "outputs": [
    {
     "name": "stdout",
     "output_type": "stream",
     "text": [
      "(1, 3) (1, 4) (2, 3) (2, 4)\n"
     ]
    }
   ],
   "source": [
    "from itertools import product\n",
    "inp1 =  [int(j) for j in input().split()]\n",
    "inp2 =  [int(j) for j in input().split()] \n",
    "\n",
    "\n",
    "print(  *list(product(inp1,inp2)  )  )\n"
   ]
  },
  {
   "attachments": {},
   "cell_type": "markdown",
   "metadata": {},
   "source": [
    "Raghu is a shoe shop owner. His shop has  number of shoes.\n",
    "He has a list containing the size of each shoe he has in his shop.\n",
    "There are  number of customers who are willing to pay  amount of money only if they get the shoe of their desired size.\n",
    "\n",
    "Your task is to compute how much money  earned.\n",
    "\n",
    "Input Format\n",
    "\n",
    "The first line contains , the number of shoes.\n",
    "The second line contains the space separated list of all the shoe sizes in the shop.\n",
    "The third line contains , the number of customers.\n",
    "The next  lines contain the space separated values of the  desired by the customer and , the price of the shoe."
   ]
  },
  {
   "cell_type": "code",
   "execution_count": null,
   "metadata": {},
   "outputs": [],
   "source": [
    "from collections import Counter\n",
    "\n",
    "n = int(input() )\n",
    "\n",
    "inp  = [int(i)  for i in input().split() ]\n",
    "size_avail = Counter(inp)\n",
    "\n",
    "x = int(input())\n",
    "earn = 0\n",
    "\n",
    "for i in range(x):\n",
    "    \n",
    "    size,price  = [int(i)  for i in input().split() ]\n",
    "    \n",
    "    if size in size_avail.keys():\n",
    "        if size_avail[size] > 0:\n",
    "            earn = earn + price\n",
    "            size_avail[size] = size_avail[size] -1     \n",
    "\n",
    "print(earn)"
   ]
  },
  {
   "attachments": {},
   "cell_type": "markdown",
   "metadata": {},
   "source": [
    "In this challenge, you will be given  integers,  and . There are  words, which might repeat, in word group . There are  words belonging to word group . For each  words, check whether the word has appeared in group  or not. Print the indices of each occurrence of  in group . If it does not appear, print .\n",
    "\n",
    "Example\n",
    "\n",
    "Group A contains 'a', 'b', 'a' Group B contains 'a', 'c'\n",
    "\n",
    "For the first word in group B, 'a', it appears at positions  and  in group A. The second word, 'c', does not appear in group A, so print ."
   ]
  },
  {
   "cell_type": "code",
   "execution_count": 4,
   "metadata": {},
   "outputs": [
    {
     "name": "stdout",
     "output_type": "stream",
     "text": [
      "0 2 4\n",
      "1 3\n"
     ]
    }
   ],
   "source": [
    "from collections import Counter\n",
    "\n",
    "\n",
    "n,m = [int(i)  for i in input().split()]\n",
    "\n",
    "inp1 = []\n",
    "inp2 = []\n",
    "for i in range(n):\n",
    "    inp1.append(input())\n",
    "\n",
    "for i in range(m):\n",
    "    inp2.append(input())\n",
    "\n",
    "for i in inp2:\n",
    "    if i in inp1:\n",
    "        ind = [index + 1 for index, value in enumerate(inp1) if value == i]\n",
    "        \n",
    "        print(*ind)\n",
    "    else:\n",
    "        print(\"-1\")"
   ]
  },
  {
   "attachments": {},
   "cell_type": "markdown",
   "metadata": {},
   "source": [
    "You are given a string .\n",
    "Your task is to print all possible permutations of size  of the string in lexicographic sorted order."
   ]
  },
  {
   "cell_type": "code",
   "execution_count": 5,
   "metadata": {},
   "outputs": [
    {
     "name": "stdout",
     "output_type": "stream",
     "text": [
      "ac\n",
      "ah\n",
      "ak\n",
      "ca\n",
      "ch\n",
      "ck\n",
      "ha\n",
      "hc\n",
      "hk\n",
      "ka\n",
      "kc\n",
      "kh\n"
     ]
    }
   ],
   "source": [
    "\n",
    "# Enter your code here. Read input from STDIN. Print output to STDOUT\n",
    "\n",
    "from itertools import permutations\n",
    "\n",
    "x,y =   input().split()\n",
    "\n",
    "y = int(y)\n",
    "\n",
    "x = [i for i in x]\n",
    "\n",
    "for i in sorted(list  ( permutations(x,y) )) :\n",
    "    print(\"\".join(i) )"
   ]
  },
  {
   "attachments": {},
   "cell_type": "markdown",
   "metadata": {},
   "source": [
    "You are given a string .\n",
    "Your task is to print all possible combinations, up to size , of the string in lexicographic sorted order."
   ]
  },
  {
   "cell_type": "code",
   "execution_count": 10,
   "metadata": {},
   "outputs": [
    {
     "name": "stdout",
     "output_type": "stream",
     "text": [
      "a\n",
      "c\n",
      "h\n",
      "k\n",
      "ac\n",
      "ak\n",
      "ck\n",
      "ha\n",
      "hc\n",
      "hk\n"
     ]
    }
   ],
   "source": [
    "from itertools import combinations\n",
    "\n",
    "x,y =   input().split()\n",
    "\n",
    "y = int(y)\n",
    "\n",
    "x = [i for i in x]\n",
    "\n",
    "\n",
    "p = []\n",
    "for i in range(1,y+1):\n",
    "    p = p +  list  ( combinations(  sorted(x) ,i) ) \n",
    "    \n",
    "    \n",
    "for i in p :\n",
    "    print(\"\".join(i) )"
   ]
  },
  {
   "attachments": {},
   "cell_type": "markdown",
   "metadata": {},
   "source": [
    "A single line containing the complex number . Note: complex() function can be used in python to convert the input as a complex number.?"
   ]
  },
  {
   "cell_type": "code",
   "execution_count": null,
   "metadata": {},
   "outputs": [],
   "source": [
    "\n",
    "import cmath \n",
    "\n",
    "x = input()\n",
    "\n",
    "\n",
    "print(  abs( complex(x)  )   )\n",
    "print( cmath.phase( complex(x)  )  )"
   ]
  },
  {
   "attachments": {},
   "cell_type": "markdown",
   "metadata": {},
   "source": [
    "Your task is to find  (angle MBC , as shown in the figure) in degrees."
   ]
  },
  {
   "cell_type": "code",
   "execution_count": 5,
   "metadata": {},
   "outputs": [
    {
     "name": "stdout",
     "output_type": "stream",
     "text": [
      "45°\n"
     ]
    }
   ],
   "source": [
    "\n",
    "from math import *\n",
    "\n",
    "ab = float(int(input()))\n",
    "bc = float(int(input()))\n",
    "ac = (ab**2+ bc**2)**(1/2)\n",
    "\n",
    "c =  round(degrees(acos( bc/ac   )) )\n",
    "\n",
    "\n",
    "print(str(c)+ chr(176)  )\n",
    "\n"
   ]
  },
  {
   "attachments": {},
   "cell_type": "markdown",
   "metadata": {},
   "source": [
    "You can't take more than two lines. The first line (a for-statement) is already written for you.\n",
    "You have to complete the code using exactly one print statement.\n",
    "\n",
    "Note:\n",
    "Using anything related to strings will give a score of .\n",
    "Using more than one for-statement will give a score of ."
   ]
  },
  {
   "cell_type": "code",
   "execution_count": 38,
   "metadata": {},
   "outputs": [
    {
     "name": "stdout",
     "output_type": "stream",
     "text": [
      "1\n",
      "1\n",
      "11\n",
      "121\n",
      "111\n",
      "12321\n",
      "1111\n",
      "1234321\n",
      "11111\n",
      "123454321\n"
     ]
    }
   ],
   "source": [
    "\n",
    "for i in range(1,int(input())+1): #More than 2 lines will result in 0 score. Do not leave a blank line also\n",
    "    d = 1 if i==1 else d + 10**(i-1) \n",
    "\n",
    "    print (  d**2   )"
   ]
  },
  {
   "cell_type": "code",
   "execution_count": null,
   "metadata": {},
   "outputs": [],
   "source": [
    "\n",
    "for i in range(1,int(input())+1): #More than 2 lines will result in 0 score. Do not leave a blank line also  \n",
    "    print (  (10 ** i - 1) ** 2 // 81    )"
   ]
  },
  {
   "attachments": {},
   "cell_type": "markdown",
   "metadata": {},
   "source": [
    "Now, let's use our knowledge of sets and help Mickey.\n",
    "\n",
    "Ms. Gabriel Williams is a botany professor at District College. One day, she asked her student Mickey to compute the average of all the plants with distinct heights in her greenhouse."
   ]
  },
  {
   "cell_type": "code",
   "execution_count": null,
   "metadata": {},
   "outputs": [],
   "source": [
    "def average(array):\n",
    "    # your code goes here\n",
    "    s = set(array)\n",
    "    avg = round(float(sum(s))/float(len(s)) ,3)\n",
    "    return avg\n",
    "\n",
    "if __name__ == '__main__':\n",
    "    n = int(input())\n",
    "    arr = list(map(int, input().split()))\n",
    "    result = average(arr)\n",
    "    print(result)"
   ]
  },
  {
   "attachments": {},
   "cell_type": "markdown",
   "metadata": {},
   "source": [
    "Print the day of given date"
   ]
  },
  {
   "cell_type": "code",
   "execution_count": null,
   "metadata": {},
   "outputs": [],
   "source": [
    "\n",
    "import calendar\n",
    "\n",
    "m,d,y = input().split()\n",
    "\n",
    "x = calendar.weekday(int(y),int(m),int(d) )  \n",
    "print(list(calendar.day_name)[x].upper()  ) "
   ]
  },
  {
   "attachments": {},
   "cell_type": "markdown",
   "metadata": {},
   "source": [
    "When users post an update on social media,such as a URL, image, status update etc., other users in their network are able to view this new post on their news feed. Users can also see exactly when the post was published, i.e, how many hours, minutes or seconds ago.\n",
    "\n",
    "Since sometimes posts are published and viewed in different time zones, this can be confusing. You are given two timestamps of one such post that a user can see on his newsfeed in the following format:\n",
    "\n",
    "Day dd Mon yyyy hh:mm:ss +xxxx\n",
    "\n",
    "Here +xxxx represents the time zone. Your task is to print the absolute difference (in seconds) between them."
   ]
  },
  {
   "cell_type": "code",
   "execution_count": 23,
   "metadata": {},
   "outputs": [
    {
     "name": "stdout",
     "output_type": "stream",
     "text": [
      "2015-05-02 14:24:36+00:00\n",
      "2015-05-01 13:54:36+00:00\n",
      "88200\n",
      "0.0\n",
      "The timezone difference is 1 days, 0 hours, and 30 minutes.\n"
     ]
    }
   ],
   "source": [
    "#!/bin/python3\n",
    "\n",
    "import math\n",
    "import os\n",
    "import random\n",
    "import re\n",
    "import sys\n",
    "from datetime import datetime,timezone\n",
    "\n",
    "\n",
    "\n",
    "# Complete the time_delta function below.\n",
    "def time_delta(t1, t2):\n",
    "    \n",
    "    datetime_format = \"%a %d %b %Y %H:%M:%S %z\"\n",
    "    dt1 = datetime.strptime(t1, datetime_format)\n",
    "    dt2 = datetime.strptime(t2, datetime_format)\n",
    "    df = dt2 - dt1\n",
    "        \n",
    "    # Calculate the timezone difference\n",
    "    dt1 = dt1.astimezone(timezone.utc) \n",
    "    dt2 = dt2.astimezone(timezone.utc)\n",
    "    print(dt1)\n",
    "    print(dt2)\n",
    "    \n",
    "    if dt1>dt2:\n",
    "        return str  (abs((dt1-dt2).days*24*60*60 + (dt1-dt2).seconds ))\n",
    "    else:\n",
    "        return str   (abs(  (dt1-dt2).days*24*60*60 + (dt1-dt2).seconds  ) )\n",
    "    \n",
    "         \n",
    "         \n",
    "         \n",
    "\n",
    "if __name__ == '__main__':\n",
    "    fptr = open(os.environ['OUTPUT_PATH'], 'w')\n",
    "\n",
    "    t = int(input())\n",
    "\n",
    "    for t_itr in range(t):\n",
    "        t1 = input()\n",
    "\n",
    "        t2 = input()\n",
    "\n",
    "        delta = time_delta(t1, t2)\n",
    "\n",
    "        fptr.write(delta + '\\n')\n",
    "\n",
    "    fptr.close()\n"
   ]
  },
  {
   "attachments": {},
   "cell_type": "markdown",
   "metadata": {},
   "source": [
    "The statements try and except can be used to handle selected exceptions. A try statement may have more than one except clause to specify handlers for different exceptions.\n",
    "The first line contains , the number of test cases.\n",
    "The next  lines each contain the space separated values of  and ."
   ]
  },
  {
   "cell_type": "code",
   "execution_count": null,
   "metadata": {},
   "outputs": [],
   "source": [
    "# Enter your code here. Read input from STDIN. Print output to STDOUT\n",
    "\n",
    "n = int(input())\n",
    "\n",
    "for i in range(n):\n",
    "    num,den = input().split()\n",
    "    try:\n",
    "        print(  int(num)//int(den)  )\n",
    "    except ZeroDivisionError as e:\n",
    "        print( \"Error Code: integer division or modulo by zero\"  )\n",
    "    except Exception as e:\n",
    "        print( \"Error Code:\",e  )\n",
    "        "
   ]
  },
  {
   "attachments": {},
   "cell_type": "markdown",
   "metadata": {},
   "source": [
    "Your task is to find out whether  is a valid regex or not. Use PyPy3 complier"
   ]
  },
  {
   "cell_type": "code",
   "execution_count": 3,
   "metadata": {},
   "outputs": [
    {
     "data": {
      "text/plain": [
       "'ssfsf'"
      ]
     },
     "execution_count": 3,
     "metadata": {},
     "output_type": "execute_result"
    }
   ],
   "source": [
    "import re\n",
    "\n",
    "test_string = 'test_string'\n",
    "T=int(input())\n",
    "for t in range(T):\n",
    "    pattern = input()\n",
    "\n",
    "    try:\n",
    "        result = re.match(pattern, test_string)\n",
    "        print (\"True\")\n",
    "    except Exception:\n",
    "        print (\"False\")"
   ]
  },
  {
   "attachments": {},
   "cell_type": "markdown",
   "metadata": {},
   "source": [
    "Regular Expression for a number starting with 7 8 or 9 and has 10 digits"
   ]
  },
  {
   "cell_type": "code",
   "execution_count": 7,
   "metadata": {},
   "outputs": [
    {
     "name": "stdout",
     "output_type": "stream",
     "text": [
      "No\n",
      "No\n",
      "No\n"
     ]
    }
   ],
   "source": [
    "import re\n",
    "pattern = r'^(7|8|9)\\d{9}$'\n",
    "\n",
    "n = int(input())\n",
    "\n",
    "for i in range(n):\n",
    "    if re.match(pattern, input() ):\n",
    "        print(\"YES\")\n",
    "    else:\n",
    "        print(\"NO\")"
   ]
  },
  {
   "attachments": {},
   "cell_type": "markdown",
   "metadata": {},
   "source": [
    "The first line contains a single integer, , denoting the number of email address.\n",
    "Each line  of the  subsequent lines contains a name and an email address as two space-separated values following this format:\n",
    "Print the space-separated name and email address pairs containing valid email addresses only. Each pair must be printed on a new line in the following format:"
   ]
  },
  {
   "cell_type": "code",
   "execution_count": null,
   "metadata": {},
   "outputs": [],
   "source": [
    "\n",
    "import email.utils\n",
    "import re\n",
    "\n",
    "\n",
    "n = int(input())\n",
    "pattern = r'[a-zA-Z]+\\s<[a-z]+[\\w._-]{0,}@[a-z]+\\.[a-z]{1,3}>'\n",
    "for i in range(n):\n",
    "    y = input()\n",
    "    x = email.utils.parseaddr(y)\n",
    "    \n",
    "    if re.search(pattern, y ):\n",
    "        print (y)"
   ]
  },
  {
   "attachments": {},
   "cell_type": "markdown",
   "metadata": {},
   "source": [
    "There is an array of  integers. There are also  disjoint sets,  and , each containing  integers. You like all the integers in set  and dislike all the integers in set . Your initial happiness is . For each  integer in the array, if , you add  to your happiness. If , you add  to your happiness. Otherwise, your happiness does not change. Output your final happiness at the end.\n",
    "\n",
    "Note: Since  and  are sets, they have no repeated elements. However, the array might contain duplicate elements."
   ]
  },
  {
   "cell_type": "code",
   "execution_count": null,
   "metadata": {},
   "outputs": [],
   "source": [
    "\n",
    "\n",
    "n,m =  map(int, input().split())\n",
    "\n",
    "x = list(map(int, input().split()))\n",
    "\n",
    "a = set(map(int, input().split()))\n",
    "b = set(map(int, input().split()))\n",
    "\n",
    "happy = 0\n",
    "\n",
    "\n",
    "\n",
    "for i in x:\n",
    "    if i in a:\n",
    "        happy = happy +  1\n",
    "    elif i in b:\n",
    "        happy = happy - 1\n",
    "   \n",
    "        \n",
    "print(happy)"
   ]
  },
  {
   "attachments": {},
   "cell_type": "markdown",
   "metadata": {},
   "source": [
    "If we want to add a single element to an existing set, we can use the .add() operation.\n",
    "It adds the element to the set and returns 'None'."
   ]
  },
  {
   "cell_type": "code",
   "execution_count": null,
   "metadata": {},
   "outputs": [],
   "source": [
    "n = int(input())\n",
    "s =set()\n",
    "for i in range(n):\n",
    "    s.add(input())\n",
    "    \n",
    "print(len(s))\n",
    "    "
   ]
  },
  {
   "attachments": {},
   "cell_type": "markdown",
   "metadata": {},
   "source": [
    "The first line contains integer , the number of elements in the set .\n",
    "The second line contains  space separated elements of set . All of the elements are non-negative integers, less than or equal to 9.\n",
    "The third line contains integer , the number of commands.\n",
    "The next  lines contains either pop, remove and/or discard commands followed by their associated value."
   ]
  },
  {
   "cell_type": "code",
   "execution_count": 1,
   "metadata": {},
   "outputs": [
    {
     "data": {
      "text/plain": [
       "['pop']"
      ]
     },
     "execution_count": 1,
     "metadata": {},
     "output_type": "execute_result"
    }
   ],
   "source": [
    "n = int(input())\n",
    "\n",
    "s = set(map(int, input().split()))\n",
    "\n",
    "n = int(input())\n",
    "\n",
    "for i in range(n):\n",
    "    inp = input().split()\n",
    "    if inp[0] == \"pop\":\n",
    "        s.pop()\n",
    "    elif inp[0] == \"remove\":\n",
    "        n = int(inp[1])\n",
    "        s.remove(n)\n",
    "    elif inp[0] == \"discard\":\n",
    "        n = int(inp[1])\n",
    "        s.discard(n)\n",
    "    \n",
    "print( sum(s) )"
   ]
  },
  {
   "attachments": {},
   "cell_type": "markdown",
   "metadata": {},
   "source": [
    "Dr. John Wesley has a spreadsheet containing a list of student's , ,  and .\n",
    "\n",
    "Your task is to help Dr. Wesley calculate the average marks of the students.\n",
    "\n",
    "\n",
    "Note:\n",
    "1. Columns can be in any order. IDs, marks, class and name can be written in any order in the spreadsheet.\n",
    "2. Column names are ID, MARKS, CLASS and NAME. (The spelling and case type of these names won't change.)\n",
    "\n",
    "Input Format\n",
    "\n",
    "The first line contains an integer , the total number of students.\n",
    "The second line contains the names of the columns in any order.\n",
    "The next  lines contains the , ,  and , under their respective column names."
   ]
  },
  {
   "cell_type": "code",
   "execution_count": 1,
   "metadata": {},
   "outputs": [
    {
     "data": {
      "text/plain": [
       "1"
      ]
     },
     "execution_count": 1,
     "metadata": {},
     "output_type": "execute_result"
    }
   ],
   "source": [
    "\n",
    "n = int(input())\n",
    "\n",
    "inp = input().split()\n",
    "\n",
    "ind = inp.index(\"MARKS\")\n",
    "\n",
    "s = 0\n",
    "for i in range(n): \n",
    "    x = input().split()\n",
    "    s = s+ int(x[ind])\n",
    "\n",
    "print( float(s)/float(n) )\n"
   ]
  },
  {
   "attachments": {},
   "cell_type": "markdown",
   "metadata": {},
   "source": [
    "Task\n",
    "\n",
    "You are the manager of a supermarket.\n",
    "You have a list of  items together with their prices that consumers bought on a particular day.\n",
    "Your task is to print each item_name and net_price in order of its first occurrence.\n",
    "\n",
    "item_name = Name of the item.\n",
    "net_price = Quantity of the item sold multiplied by the price of each item.\n",
    "\n",
    "Input Format\n",
    "\n",
    "The first line contains the number of items, .\n",
    "The next  lines contains the item's name and price, separated by a space."
   ]
  },
  {
   "cell_type": "code",
   "execution_count": 3,
   "metadata": {},
   "outputs": [
    {
     "data": {
      "text/plain": [
       "123"
      ]
     },
     "execution_count": 3,
     "metadata": {},
     "output_type": "execute_result"
    }
   ],
   "source": [
    "from collections import OrderedDict\n",
    "import re\n",
    "\n",
    "n = input()\n",
    "s = OrderedDict()\n",
    "\n",
    "for i in range(int(n) ):\n",
    "    x = input()\n",
    "    \n",
    "    letters = re.findall(r'[a-zA-Z]+',x)\n",
    "    digits = re.findall(r'\\d+', x)\n",
    "    letters = \" \".join(letters)\n",
    "    digits = int(\"\".join(digits) )\n",
    "    if letters in s.keys():\n",
    "        s[letters ] = s[letters] + digits\n",
    "    else:\n",
    "        s[letters ] = digits\n",
    "    \n",
    "for i in s.keys():\n",
    "    print(i ,s[i] )"
   ]
  },
  {
   "attachments": {},
   "cell_type": "markdown",
   "metadata": {},
   "source": [
    "Task\n",
    "Given  sets of integers,  and , print their symmetric difference in ascending order. The term symmetric difference indicates those values that exist in either  or  but do not exist in both.\n",
    "\n",
    "Input Format\n",
    "\n",
    "The first line of input contains an integer, .\n",
    "The second line contains  space-separated integers.\n",
    "The third line contains an integer, .\n",
    "The fourth line contains  space-separated integers."
   ]
  },
  {
   "cell_type": "code",
   "execution_count": null,
   "metadata": {},
   "outputs": [],
   "source": [
    "\n",
    "# Enter your code here. Read input from STDIN. Print output to STDOUT\n",
    "n = input()\n",
    "\n",
    "x= set(map(int,input().split()  ))\n",
    "p = input()\n",
    "y= set(map(int,input().split()  ))\n",
    "\n",
    "a = x.difference(y)\n",
    "b = y.difference(x)\n",
    "for i in sorted(list(a.union(b))):\n",
    "    print(i)"
   ]
  },
  {
   "attachments": {},
   "cell_type": "markdown",
   "metadata": {},
   "source": [
    "Task\n",
    "The students of District College have subscriptions to English and French newspapers. Some students have subscribed only to English, some have subscribed to only French and some have subscribed to both newspapers.\n",
    "\n",
    "You are given two sets of student roll numbers. One set has subscribed to the English newspaper, and the other set is subscribed to the French newspaper. The same student could be in both sets. Your task is to find the total number of students who have subscribed to at least one newspaper."
   ]
  },
  {
   "cell_type": "code",
   "execution_count": null,
   "metadata": {},
   "outputs": [],
   "source": [
    "# Enter your code here. Read input from STDIN. Print output to STDOUT\n",
    "\n",
    "n = input()\n",
    "\n",
    "x= set(map(int,input().split()  ))\n",
    "p = input()\n",
    "y= set(map(int,input().split()  ))\n",
    "\n",
    "print(len(x.union(y)))  "
   ]
  },
  {
   "attachments": {},
   "cell_type": "markdown",
   "metadata": {},
   "source": [
    "Task\n",
    "The students of District College have subscriptions to English and French newspapers. Some students have subscribed only to English, some have subscribed only to French, and some have subscribed to both newspapers.\n",
    "\n",
    "You are given two sets of student roll numbers. One set has subscribed to the English newspaper, one set has subscribed to the French newspaper. Your task is to find the total number of students who have subscribed to both newspapers."
   ]
  },
  {
   "cell_type": "code",
   "execution_count": null,
   "metadata": {},
   "outputs": [],
   "source": [
    "\n",
    "# Enter your code here. Read input from STDIN. Print output to STDOUT\n",
    "\n",
    "n = input()\n",
    "\n",
    "x= set(map(int,input().split()  ))\n",
    "p = input()\n",
    "y= set(map(int,input().split()  ))\n",
    "\n",
    "print(len(x.intersection(y)))  "
   ]
  },
  {
   "attachments": {},
   "cell_type": "markdown",
   "metadata": {},
   "source": [
    "Students of District College have a subscription to English and French newspapers. Some students have subscribed to only the English newspaper, some have subscribed to only the French newspaper, and some have subscribed to both newspapers.\n",
    "\n",
    "You are given two sets of student roll numbers. One set has subscribed to the English newspaper, and one set has subscribed to the French newspaper. Your task is to find the total number of students who have subscribed to only English newspapers."
   ]
  },
  {
   "cell_type": "code",
   "execution_count": null,
   "metadata": {},
   "outputs": [],
   "source": [
    "# Enter your code here. Read input from STDIN. Print output to STDOUT\n",
    "\n",
    "\n",
    "n = input()\n",
    "\n",
    "x= set(map(int,input().split()  ))\n",
    "p = input()\n",
    "y= set(map(int,input().split()  ))\n",
    "\n",
    "print(len(x.difference(y)))  "
   ]
  },
  {
   "attachments": {},
   "cell_type": "markdown",
   "metadata": {},
   "source": [
    "Students of District College have subscriptions to English and French newspapers. Some students have subscribed to English only, some have subscribed to French only, and some have subscribed to both newspapers.\n",
    "\n",
    "You are given two sets of student roll numbers. One set has subscribed to the English newspaper, and one set has subscribed to the French newspaper. Your task is to find the total number of students who have subscribed to either the English or the French newspaper but not both."
   ]
  },
  {
   "cell_type": "code",
   "execution_count": null,
   "metadata": {},
   "outputs": [],
   "source": [
    "# Enter your code here. Read input from STDIN. Print output to STDOUT\n",
    "\n",
    "n = input()\n",
    "\n",
    "x= set(map(int,input().split()  ))\n",
    "p = input()\n",
    "y= set(map(int,input().split()  ))\n",
    "\n",
    "a = x.difference(y)\n",
    "b = y.difference(x)\n",
    "print(len(a.union(b)))\n",
    "    "
   ]
  },
  {
   "attachments": {},
   "cell_type": "markdown",
   "metadata": {},
   "source": [
    "You are given a set  and  number of other sets. These  number of sets have to perform some specific mutation operations on set .\n",
    "\n",
    "Your task is to execute those operations and print the sum of elements from set .\n",
    "\n",
    "Input Format\n",
    "\n",
    "The first line contains the number of elements in set .\n",
    "The second line contains the space separated list of elements in set .\n",
    "The third line contains integer , the number of other sets.\n",
    "The next  lines are divided into  parts containing two lines each.\n",
    "The first line of each part contains the space separated entries of the operation name and the length of the other set.\n",
    "The second line of each part contains space separated list of elements in the other set."
   ]
  },
  {
   "cell_type": "code",
   "execution_count": 2,
   "metadata": {},
   "outputs": [
    {
     "name": "stdout",
     "output_type": "stream",
     "text": [
      "15\n"
     ]
    }
   ],
   "source": [
    "# Enter your code here. Read input from STDIN. Print output to STDOUT\n",
    "\n",
    "n = input()\n",
    "\n",
    "x= set(map(int,input().split()  ))\n",
    "\n",
    "p = int(input())\n",
    "\n",
    "for i in range(p):\n",
    "    inp = input().split()\n",
    "    y = set(map(int,input().split()  ))\n",
    "    if inp[0] == \"intersection_update\":\n",
    "        x.intersection_update(y)\n",
    "    elif inp[0] == \"symmetric_difference_update\":\n",
    "        x.symmetric_difference_update(y)\n",
    "    elif inp[0] == \"difference_update\":\n",
    "        x. difference_update(y)\n",
    "    \n",
    "print(sum(x))"
   ]
  },
  {
   "attachments": {},
   "cell_type": "markdown",
   "metadata": {},
   "source": [
    "You are given a set  and  number of other sets. These  number of sets have to perform some specific mutation operations on set .\n",
    "\n",
    "Your task is to execute those operations and print the sum of elements from set .\n",
    "\n",
    "Input Format\n",
    "\n",
    "The first line contains the number of elements in set .\n",
    "The second line contains the space separated list of elements in set .\n",
    "The third line contains integer , the number of other sets.\n",
    "The next  lines are divided into  parts containing two lines each.\n",
    "The first line of each part contains the space separated entries of the operation name and the length of the other set.\n",
    "The second line of each part contains space separated list of elements in the other set."
   ]
  },
  {
   "cell_type": "code",
   "execution_count": null,
   "metadata": {},
   "outputs": [],
   "source": [
    "n = input()\n",
    "\n",
    "x= set(map(int,input().split()  ))\n",
    "\n",
    "p = int(input())\n",
    "\n",
    "for i in range(p):\n",
    "    inp = input().split()\n",
    "    y = set(map(int,input().split()  ))\n",
    "    \n",
    "    func = getattr(x, inp[0])\n",
    "    func(y)\n",
    "    \n",
    "  \n",
    "print(sum(x))"
   ]
  },
  {
   "attachments": {},
   "cell_type": "markdown",
   "metadata": {},
   "source": [
    "Task\n",
    "\n",
    "You are given a string .\n",
    "Your task is to print all possible size  replacement combinations of the string in lexicographic sorted order.\n",
    "\n",
    "Input Format\n",
    "\n",
    "A single line containing the string  and integer value  separated by a space."
   ]
  },
  {
   "cell_type": "code",
   "execution_count": null,
   "metadata": {},
   "outputs": [],
   "source": [
    "# Enter your code here. Read input from STDIN. Print output to STDOUT\n",
    "\n",
    "\n",
    "from itertools import combinations_with_replacement\n",
    "\n",
    "inp = input().split()\n",
    "\n",
    "for i in list(combinations_with_replacement(  sorted(list(inp[0]) ),int(inp[1] )  ) ):\n",
    "    print( \"\".join(i)  ) "
   ]
  },
  {
   "attachments": {},
   "cell_type": "markdown",
   "metadata": {},
   "source": [
    "On the first line, output the number of distinct words from the input.\n",
    "On the second line, output the number of occurrences for each distinct word according to their appearance in the input."
   ]
  },
  {
   "cell_type": "code",
   "execution_count": null,
   "metadata": {},
   "outputs": [],
   "source": [
    "\n",
    "\n",
    "x = int(input() )\n",
    "di = {}\n",
    "\n",
    "for i in range(x):\n",
    "    inp = input()\n",
    "    \n",
    "    if inp in di.keys():\n",
    "        di[inp] = di[inp] + 1\n",
    "    else:\n",
    "        di[inp] = 1\n",
    "        \n",
    "print( len( list(di.keys()) ) )\n",
    "print(   *[i for i in di.values()]  )"
   ]
  },
  {
   "attachments": {},
   "cell_type": "markdown",
   "metadata": {},
   "source": [
    "Perform append, pop, popleft and appendleft methods on an empty deque .\n",
    "\n",
    "Input Format\n",
    "\n",
    "The first line contains an integer , the number of operations.\n",
    "The next  lines contains the space separated names of methods and their values."
   ]
  },
  {
   "cell_type": "code",
   "execution_count": null,
   "metadata": {},
   "outputs": [],
   "source": [
    "from collections import deque\n",
    "\n",
    "n = input()\n",
    "x= deque()\n",
    "\n",
    "for i in range(int(n) ):\n",
    "    inp = input().split()\n",
    "    \n",
    "    \n",
    "    func = getattr(x, inp[0])\n",
    "    if len(inp) > 1  : \n",
    "        func(int(inp[1]) )\n",
    "    else:\n",
    "        func()\n",
    "    \n",
    "print(*x)"
   ]
  },
  {
   "attachments": {},
   "cell_type": "markdown",
   "metadata": {},
   "source": [
    "In this task, we would like for you to appreciate the usefulness of the groupby() function of itertools . To read more about this function, Check this out .\n",
    "\n",
    "You are given a string . Suppose a character '' occurs consecutively  times in the string. Replace these consecutive occurrences of the character '' with  in the string.\n",
    "\n",
    "For a better understanding of the problem, check the explanation."
   ]
  },
  {
   "cell_type": "code",
   "execution_count": null,
   "metadata": {},
   "outputs": [],
   "source": [
    "from itertools import groupby\n",
    "\n",
    "print(*[ (  len(list(g)) ,int(k) ) for k,g in groupby( input() )] )"
   ]
  },
  {
   "attachments": {},
   "cell_type": "markdown",
   "metadata": {},
   "source": [
    "The itertools module standardizes a core set of fast, memory efficient tools that are useful by themselves or in combination. Together, they form an iterator algebra making it possible to construct specialized tools succinctly and efficiently in pure Python.\n",
    "\n",
    "To read more about the functions in this module, check out their documentation here.\n",
    "\n",
    "You are given a list of  lowercase English letters. For a given integer , you can select any  indices (assume -based indexing) with a uniform probability from the list.\n",
    "\n",
    "Find the probability that at least one of the  indices selected will contain the letter: ''.\n",
    "\n",
    "Input Format\n",
    "\n",
    "The input consists of three lines. The first line contains the integer , denoting the length of the list. The next line consists of  space-separated lowercase English letters, denoting the elements of the list.\n",
    "\n",
    "The third and the last line of input contains the integer , denoting the number of indices to be selected."
   ]
  },
  {
   "cell_type": "code",
   "execution_count": null,
   "metadata": {},
   "outputs": [],
   "source": [
    "\n",
    "from itertools import combinations\n",
    "n= input()\n",
    "inp  = input().split()\n",
    "y = int( input() )\n",
    "count = 0\n",
    "li = list( combinations(inp,y ) )\n",
    "\n",
    "for x in  li:\n",
    "    if \"a\" in x:\n",
    "        count = count + 1    \n",
    "        \n",
    "     \n",
    "print (  round( float(count) / float(len(li)),4  )  )  "
   ]
  },
  {
   "attachments": {},
   "cell_type": "markdown",
   "metadata": {},
   "source": [
    "A newly opened multinational brand has decided to base their company logo on the three most common characters in the company name. They are now trying out various combinations of company names and logos based on this condition. Given a string , which is the company name in lowercase letters, your task is to find the top three most common characters in the string.\n",
    "\n",
    "Print the three most common characters along with their occurrence count.\n",
    "Sort in descending order of occurrence count.\n",
    "If the occurrence count is the same, sort the characters in alphabetical order.\n",
    "For example, according to the conditions described above,\n",
    "\n",
    " would have it's logo with the letters .\n",
    "\n",
    "Input Format\n",
    "\n",
    "A single line of input containing the string .\n",
    "\n",
    "Constraints\n",
    "\n",
    " has at least  distinct characters\n",
    "Output Format\n",
    "\n",
    "Print the three most common characters along with their occurrence count each on a separate line.\n",
    "Sort output in descending order of occurrence count.\n",
    "If the occurrence count is the same, sort the characters in alphabetical order."
   ]
  },
  {
   "cell_type": "code",
   "execution_count": null,
   "metadata": {},
   "outputs": [],
   "source": [
    "#!/bin/python3\n",
    "\n",
    "\n",
    "from itertools import groupby\n",
    "\n",
    "\n",
    "if __name__ == '__main__':\n",
    "    s = input()\n",
    "    s = ''.join(sorted(s))\n",
    "    \n",
    "    final = [ (i, len(list(j))  )    for i,j in groupby(s)]\n",
    "    output = sorted(final, key=lambda x: x[1], reverse=True)\n",
    "    count = 3\n",
    "    for i,j in output:\n",
    "        if count <=0:\n",
    "            break\n",
    "        print(i,j)\n",
    "        count = count -1"
   ]
  },
  {
   "attachments": {},
   "cell_type": "markdown",
   "metadata": {},
   "source": [
    "There is a horizontal row of  cubes. The length of each cube is given. You need to create a new vertical pile of cubes. The new pile should follow these directions: if  is on top of  then .\n",
    "\n",
    "When stacking the cubes, you can only pick up either the leftmost or the rightmost cube each time. Print Yes if it is possible to stack the cubes. Otherwise, print No."
   ]
  },
  {
   "cell_type": "code",
   "execution_count": null,
   "metadata": {},
   "outputs": [],
   "source": [
    "from collections import deque\n",
    "T = int(input())\n",
    "for _ in range(T):\n",
    "    n = int(input())\n",
    "    sideLengths = list(map(int, input().split()))\n",
    "    d = deque(sideLengths)\n",
    "    sup = max(d[0], d[-1])\n",
    "    sup_temp = sup\n",
    "    while len(d) != 0 and sup == sup_temp:\n",
    "        if d[0] > d[-1]:\n",
    "            sup = d.popleft()\n",
    "        else:\n",
    "            sup = d.pop()\n",
    "        if sup <= sup_temp:\n",
    "            sup_temp = sup\n",
    "    if len(d) == 0:\n",
    "        print('Yes')\n",
    "    else:\n",
    "        print('No')"
   ]
  },
  {
   "attachments": {},
   "cell_type": "markdown",
   "metadata": {},
   "source": [
    "Mr. Anant Asankhya is the manager at the INFINITE hotel. The hotel has an infinite amount of rooms.\n",
    "\n",
    "One fine day, a finite number of tourists come to stay at the hotel.\n",
    "The tourists consist of:\n",
    "→ A Captain.\n",
    "→ An unknown group of families consisting of  members per group where  ≠ .\n",
    "\n",
    "The Captain was given a separate room, and the rest were given one room per group.\n",
    "\n",
    "Mr. Anant has an unordered list of randomly arranged room entries. The list consists of the room numbers for all of the tourists. The room numbers will appear  times per group except for the Captain's room.\n",
    "\n",
    "Mr. Anant needs you to help him find the Captain's room number.\n",
    "The total number of tourists or the total number of groups of families is not known to you.\n",
    "You only know the value of  and the room number list."
   ]
  },
  {
   "cell_type": "code",
   "execution_count": 2,
   "metadata": {},
   "outputs": [
    {
     "data": {
      "text/plain": [
       "[('a', 2),\n",
       " ('b', 3),\n",
       " ('d', 1),\n",
       " ('b', 1),\n",
       " ('d', 1),\n",
       " ('b', 1),\n",
       " ('d', 1),\n",
       " ('b', 2),\n",
       " ('d', 1)]"
      ]
     },
     "execution_count": 2,
     "metadata": {},
     "output_type": "execute_result"
    }
   ],
   "source": [
    "# Enter your code here. Read input from STDIN. Print output to STDOUT\n",
    "\n",
    "n = int(input())\n",
    "\n",
    "x =  input().split()\n",
    "di = {}\n",
    "for i in x:\n",
    "    if i in di.keys():\n",
    "        di[i] = di[i] + 1\n",
    "    else:\n",
    "        di[i]  = 1\n",
    "for i in di.keys():\n",
    "    if  di[i] ==1:\n",
    "        print(i)\n",
    "\n",
    "\n"
   ]
  },
  {
   "attachments": {},
   "cell_type": "markdown",
   "metadata": {},
   "source": [
    "Read in two integers,  and , and print three lines.\n",
    "The first line is the integer division  (While using Python2 remember to import division from __future__).\n",
    "The second line is the result of the modulo operator: .\n",
    "The third line prints the divmod of a and b ."
   ]
  },
  {
   "cell_type": "code",
   "execution_count": null,
   "metadata": {},
   "outputs": [],
   "source": [
    "a =  int(input() )\n",
    "b = int(input() )\n",
    "i,j = divmod(a,b)\n",
    "print(i)\n",
    "print(j)\n",
    "\n",
    "print (divmod(a,b) )"
   ]
  },
  {
   "attachments": {},
   "cell_type": "markdown",
   "metadata": {},
   "source": [
    "You are given three integers: a, b, and c. Print two lines.\n",
    "On the first line, print the result of pow(a,b). On the second line, print the result of pow(a,b,m)."
   ]
  },
  {
   "cell_type": "code",
   "execution_count": null,
   "metadata": {},
   "outputs": [],
   "source": [
    "\n",
    "a = int(input())\n",
    "b= int(input())\n",
    "c = int(input())\n",
    "\n",
    "print(a**b)\n",
    "print(a**b%c)"
   ]
  },
  {
   "attachments": {},
   "cell_type": "markdown",
   "metadata": {},
   "source": [
    "Read four numbers and print the result of a^b + c^d ."
   ]
  },
  {
   "cell_type": "code",
   "execution_count": null,
   "metadata": {},
   "outputs": [],
   "source": [
    "a = int(input())\n",
    "b = int(input() )\n",
    "c = int(input() )\n",
    "d = int(input() )\n",
    "\n",
    "print( a**b + c**d  )"
   ]
  },
  {
   "attachments": {},
   "cell_type": "markdown",
   "metadata": {},
   "source": [
    "Can you do it using only arithmetic operations, a single for loop and print statement?\n",
    "\n",
    "Use no more than two lines. The first line (the for statement) is already written for you. You have to complete the print statement.\n",
    "\n",
    "Note: Using anything related to strings will give a score of 0"
   ]
  },
  {
   "cell_type": "code",
   "execution_count": null,
   "metadata": {},
   "outputs": [],
   "source": [
    "for i in range(1,int(input())): #More than 2 lines will result in 0 score. Do not leave a blank line also\n",
    "    print(  int(((10 ** i - 1) ** 2 // 81)**(1/2) * i  )     )"
   ]
  },
  {
   "attachments": {},
   "cell_type": "markdown",
   "metadata": {},
   "source": [
    "You have to pick one element from each list so that the value from the equation below is maximized:\n",
    "\n",
    "a % m\n",
    "\n",
    " denotes the element picked from the  list . Find the maximized value  obtained.\n",
    "\n",
    "% denotes the modulo operator.\n",
    "\n",
    "Note that you need to take exactly one element from each list, not necessarily the largest element. You add the squares of the chosen elements and perform the modulo operation. The maximum value that you can obtain, will be the answer to the problem."
   ]
  },
  {
   "cell_type": "code",
   "execution_count": 29,
   "metadata": {},
   "outputs": [
    {
     "name": "stdout",
     "output_type": "stream",
     "text": [
      "[[2, 5, 4], [3, 7, 8, 9], [5, 5, 7, 8, 9, 10]]\n",
      "[[], [], []]\n"
     ]
    }
   ],
   "source": [
    "n,m =   map(int, input().split()  )\n",
    "inp = []\n",
    "from itertools import product\n",
    "\n",
    "for i in range(n):\n",
    "    inp.append( list(map(int,input().split()))[1:]  )  \n",
    "\n",
    "\n",
    "all_comb = list(product( *inp  ) )         \n",
    "\n",
    "s = 0\n",
    "for i in range(len(all_comb)) :\n",
    "    x = 0\n",
    "    for j in range(n):\n",
    "        x = x +   all_comb[i][j]**2\n",
    "    out = x%m\n",
    "    if out > s:\n",
    "        s = out \n",
    "print(s)\n",
    "    "
   ]
  },
  {
   "attachments": {},
   "cell_type": "markdown",
   "metadata": {},
   "source": [
    "You are given two sets,  and .\n",
    "Your job is to find whether set  is a subset of set .\n",
    "\n",
    "If set  is subset of set , print True.\n",
    "If set  is not a subset of set , print False.\n",
    "\n",
    "Input Format\n",
    "\n",
    "The first line will contain the number of test cases, .\n",
    "The first line of each test case contains the number of elements in set .\n",
    "The second line of each test case contains the space separated elements of set .\n",
    "The third line of each test case contains the number of elements in set .\n",
    "The fourth line of each test case contains the space separated elements of set .\n",
    "\n"
   ]
  },
  {
   "cell_type": "code",
   "execution_count": null,
   "metadata": {},
   "outputs": [],
   "source": [
    "n = int(input())\n",
    "\n",
    "for i in range(n):\n",
    "    x = int(input())\n",
    "    set1 = set(map(int,input().split() ) )\n",
    "    y = int(input())\n",
    "    set2 = set(map(int,input().split() ) )  \n",
    "    print( set1.issubset(set2) )\n",
    "     "
   ]
  },
  {
   "attachments": {},
   "cell_type": "markdown",
   "metadata": {},
   "source": [
    "You are given a set  and  other sets.\n",
    "Your job is to find whether set  is a strict superset of each of the  sets.\n",
    "\n",
    "Print True, if  is a strict superset of each of the  sets. Otherwise, print False.\n",
    "\n",
    "A strict superset has at least one element that does not exist in its subset."
   ]
  },
  {
   "cell_type": "code",
   "execution_count": null,
   "metadata": {},
   "outputs": [],
   "source": [
    "# Enter your code here. Read input from STDIN. Print output to STDOUT\n",
    "\n",
    "\n",
    "setA = set( map(int,input().split()  )   )\n",
    "\n",
    "n = int( input() )\n",
    "count = 0\n",
    "for i in range(n):\n",
    "    res = setA.issuperset( set( map(int,input().split()  )   ) ) \n",
    "    if res == False:\n",
    "        break\n",
    "\n",
    "print(res)\n"
   ]
  },
  {
   "cell_type": "code",
   "execution_count": null,
   "metadata": {},
   "outputs": [],
   "source": []
  },
  {
   "attachments": {},
   "cell_type": "markdown",
   "metadata": {},
   "source": [
    "For this challenge, you are given two complex numbers, and you have to print the result of their addition, subtraction, multiplication, division and modulus operations.\n",
    "\n",
    "The real and imaginary precision part should be correct up to two decimal places.\n",
    "\n",
    "Input Format\n",
    "\n",
    "One line of input: The real and imaginary part of a number separated by a space.\n",
    "\n",
    "Output Format\n",
    "\n",
    "For two complex numbers  and , the output should be in the following sequence on separate lines:\n",
    "\n",
    "\n",
    "For complex numbers with non-zero real and complex part, the output should be in the following format:\n",
    "\n",
    "Replace the plus symbol  with a minus symbol  when .\n",
    "\n",
    "For complex numbers with a zero complex part i.e. real numbers, the output should be:\n",
    "\n",
    "For complex numbers where the real part is zero and the complex part is non-zero, the output should be:"
   ]
  },
  {
   "cell_type": "code",
   "execution_count": null,
   "metadata": {},
   "outputs": [],
   "source": [
    "import math\n",
    "\n",
    "class Complex(object):\n",
    "    def __init__(self, real, imaginary):\n",
    "        self.real = real\n",
    "        self.imaginary = imaginary\n",
    "    def __add__(self, no):\n",
    "        resreal = self.real + no.real\n",
    "        resimag = self.imaginary + no.imaginary\n",
    "        return Complex(resreal, resimag)\n",
    "    def __sub__(self, no):\n",
    "        resreal = self.real - no.real\n",
    "        resimag = self.imaginary - no.imaginary\n",
    "        return Complex(resreal, resimag)\n",
    "    def __mul__(self, no):\n",
    "        resreal = self.real*no.real - self.imaginary*no.imaginary\n",
    "        resimag = self.real*no.imaginary + no.real*self.imaginary\n",
    "        return Complex(resreal, resimag)\n",
    "    def __truediv__(self, no):\n",
    "        a = self.real\n",
    "        b = self.imaginary\n",
    "        c = no.real\n",
    "        d = no.imaginary\n",
    "\n",
    "        # Division\n",
    "        denominator = c ** 2 + d ** 2\n",
    "        resreal = (a * c + b * d) / denominator\n",
    "        resimag = (b * c - a * d) / denominator\n",
    "        return Complex(resreal, resimag)\n",
    "        \n",
    "        \n",
    "    def mod(self):\n",
    "        res  = math.sqrt(self.real ** 2 + abs(self.imaginary)**2 ) \n",
    "        \n",
    "        return Complex(res, 0)        \n",
    "    def __str__(self):\n",
    "        if self.imaginary == 0:\n",
    "            result = \"%.2f+0.00i\" % (self.real)\n",
    "        elif self.real == 0:\n",
    "            if self.imaginary >= 0:\n",
    "                result = \"0.00+%.2fi\" % (self.imaginary)\n",
    "            else:\n",
    "                result = \"0.00-%.2fi\" % (abs(self.imaginary))\n",
    "        elif self.imaginary > 0:\n",
    "            result = \"%.2f+%.2fi\" % (self.real, self.imaginary)\n",
    "        else:\n",
    "            result = \"%.2f-%.2fi\" % (self.real, abs(self.imaginary))\n",
    "        return result\n",
    "\n",
    "if __name__ == '__main__':\n",
    "    c = map(float, input().split())\n",
    "    d = map(float, input().split())\n",
    "    x = Complex(*c)\n",
    "    y = Complex(*d)\n",
    "    print(*map(str, [x+y, x-y, x*y, x/y, x.mod(), y.mod()]), sep='\\n')"
   ]
  },
  {
   "attachments": {},
   "cell_type": "markdown",
   "metadata": {},
   "source": [
    "You are given four points  and  in a 3-dimensional Cartesian coordinate system. You are required to print the angle between the plane made by the points  and  in degrees(not radians). Let the angle be .\n",
    "\n",
    " where  x  and  x .\n",
    "\n",
    "Here,  means the dot product of  and , and  x  means the cross product of vectors  and . Also, .\n",
    "\n",
    "Input Format\n",
    "\n",
    "One line of input containing the space separated floating number values of the  and  coordinates of a point.\n",
    "\n",
    "Output Format\n",
    "\n",
    "Output the angle correct up to two decimal places."
   ]
  },
  {
   "cell_type": "code",
   "execution_count": null,
   "metadata": {},
   "outputs": [],
   "source": [
    "import math\n",
    "\n",
    "class Points(object):\n",
    "    def __init__(self, x, y, z):\n",
    "        self.x = x\n",
    "        self.y = y\n",
    "        self.z = z\n",
    "    def __sub__(self, no):\n",
    "        x1 = self.x - no.x\n",
    "        y1 = self.y - no.y\n",
    "        z1 = self.z - no.z\n",
    "        return Points(x1,y1,z1)\n",
    "    def dot(self, no):\n",
    "        x1 = self.x * no.x\n",
    "        y1 = self.y * no.y\n",
    "        z1 = self.z * no.z\n",
    "        return x1+y1+z1\n",
    "    def cross(self, no):\n",
    "        x1 = self.y * no.z -  self.z * no.y\n",
    "        y1 = self.z * no.x - self.x * no.z\n",
    "        z1 = self.x * no.y - self.y * no.x\n",
    "        return Points(x1,y1,z1)\n",
    "                \n",
    "    def absolute(self):\n",
    "        return pow((self.x ** 2 + self.y ** 2 + self.z ** 2), 0.5)\n",
    "\n",
    "if __name__ == '__main__':\n",
    "    points = list()\n",
    "    for i in range(4):\n",
    "        a = list(map(float, input().split()))\n",
    "        points.append(a)\n",
    "\n",
    "    a, b, c, d = Points(*points[0]), Points(*points[1]), Points(*points[2]), Points(*points[3])\n",
    "    x = (b - a).cross(c - b)\n",
    "    y = (c - b).cross(d - c)\n",
    "    angle = math.acos(x.dot(y) / (x.absolute() * y.absolute()))\n",
    "\n",
    "    print(\"%.2f\" % math.degrees(angle))"
   ]
  },
  {
   "attachments": {},
   "cell_type": "markdown",
   "metadata": {},
   "source": [
    "The National University conducts an examination of  students in  subjects.\n",
    "Your task is to compute the average scores of each student."
   ]
  },
  {
   "cell_type": "code",
   "execution_count": null,
   "metadata": {},
   "outputs": [],
   "source": [
    "\n",
    "m,n = list(map(int,input().split()) )\n",
    "p = []\n",
    "for i in range(n):\n",
    "    p.append( list(map(float,input().split()) ) )\n",
    "\n",
    "inp = zip(*p)\n",
    "\n",
    "for i in inp:\n",
    "    print(sum(i)/n)"
   ]
  },
  {
   "attachments": {},
   "cell_type": "markdown",
   "metadata": {},
   "source": [
    "You are given a polynomial  of a single indeterminate (or variable), .\n",
    "You are also given the values of  and . Your task is to verify if .\n",
    "\n",
    "Constraints\n",
    "All coefficients of polynomial  are integers.\n",
    " and  are also integers.\n",
    "\n",
    "Input Format\n",
    "\n",
    "The first line contains the space separated values of  and .\n",
    "The second line contains the polynomial ."
   ]
  },
  {
   "cell_type": "code",
   "execution_count": 1,
   "metadata": {},
   "outputs": [
    {
     "data": {
      "text/plain": [
       "3"
      ]
     },
     "execution_count": 1,
     "metadata": {},
     "output_type": "execute_result"
    }
   ],
   "source": [
    "x,k = map(int,input().split() )\n",
    "\n",
    "px = input()\n",
    "\n",
    "print( eval(px) == k )\n"
   ]
  },
  {
   "attachments": {},
   "cell_type": "markdown",
   "metadata": {},
   "source": [
    "You are given a spreadsheet that contains a list of  athletes and their details (such as age, height, weight and so on). You are required to sort the data based on the th attribute and print the final resulting table. Follow the example given below for better understanding."
   ]
  },
  {
   "cell_type": "code",
   "execution_count": null,
   "metadata": {},
   "outputs": [],
   "source": [
    "#!/bin/python3\n",
    "\n",
    "import math\n",
    "import os\n",
    "import random\n",
    "import re\n",
    "import sys\n",
    "\n",
    "\n",
    "\n",
    "if __name__ == '__main__':\n",
    "    nm = input().split()\n",
    "\n",
    "    n = int(nm[0])\n",
    "\n",
    "    m = int(nm[1])\n",
    "\n",
    "    arr = []\n",
    "\n",
    "    for _ in range(n):\n",
    "        arr.append(list(map(int, input().rstrip().split())))\n",
    "\n",
    "    k = int(input())\n",
    "    \n",
    "    arr.sort(key=lambda x:x[k])\n",
    "    for i in arr:\n",
    "        print(*i)\n",
    "\n",
    "    \n"
   ]
  },
  {
   "attachments": {},
   "cell_type": "markdown",
   "metadata": {},
   "source": [
    "You are given a space separated list of integers. If all the integers are positive, then you need to check if any integer is a palindromic integer.\n",
    "\n",
    "Input Format\n",
    "\n",
    "The first line contains an integer .  is the total number of integers in the list.\n",
    "The second line contains the space separated list of  integers."
   ]
  },
  {
   "cell_type": "code",
   "execution_count": 10,
   "metadata": {},
   "outputs": [
    {
     "name": "stdout",
     "output_type": "stream",
     "text": [
      "True\n",
      "12\n",
      "12\n",
      "21\n",
      "9\n",
      "9\n",
      "9\n",
      "61\n",
      "61\n",
      "16\n",
      "5\n",
      "5\n",
      "5\n",
      "14\n",
      "14\n",
      "41\n",
      "True\n",
      "True\n"
     ]
    }
   ],
   "source": [
    "\n",
    "n = int(input() )\n",
    "\n",
    "x = list(map( int, input().split() ) )\n",
    "\n",
    "print(  all( [\n",
    "        all([ i>0 for i in x  ]) , \n",
    "        any(  [str(i)==str(i)[::-1] for i in x  ]  )\n",
    "          ]) )\n",
    "\n"
   ]
  },
  {
   "cell_type": "code",
   "execution_count": null,
   "metadata": {},
   "outputs": [],
   "source": []
  },
  {
   "attachments": {},
   "cell_type": "markdown",
   "metadata": {},
   "source": [
    "Your task is to sort the string  in the following manner:\n",
    "\n",
    "All sorted lowercase letters are ahead of uppercase letters.\n",
    "All sorted uppercase letters are ahead of digits.\n",
    "All sorted odd digits are ahead of sorted even digits."
   ]
  },
  {
   "cell_type": "code",
   "execution_count": null,
   "metadata": {},
   "outputs": [],
   "source": [
    "# Enter your code here. Read input from STDIN. Print output to STDOUT\n",
    "n = input() \n",
    "\n",
    "lower = []\n",
    "upper = []\n",
    "oddigit = []\n",
    "evendigit = []\n",
    "for i in n:\n",
    "    if i.isdigit():\n",
    "        if int(i)%2 == 0:\n",
    "            evendigit.append(i)\n",
    "        else:\n",
    "            oddigit.append(i)\n",
    "    \n",
    "    elif i.islower():\n",
    "        lower.append(i)\n",
    "    elif i.isupper():\n",
    "        upper.append(i)\n",
    "\n",
    "s = \"\".join( sorted(lower) ) + \"\".join( sorted(upper) ) + \"\".join(sorted(oddigit) )+ \"\".join( sorted(evendigit) )\n",
    "\n",
    "print(s)"
   ]
  },
  {
   "attachments": {},
   "cell_type": "markdown",
   "metadata": {},
   "source": [
    "You are given a string .\n",
    "Your task is to verify that  is a floating point number.\n",
    "\n",
    "In this task, a valid float number must satisfy all of the following requirements:\n",
    "\n",
    " Number can start with +, - or . symbol.\n",
    "For example:\n",
    "✔\n",
    "+4.50\n",
    "✔\n",
    "-1.0\n",
    "✔\n",
    ".5\n",
    "✔\n",
    "-.7\n",
    "✔\n",
    "+.4\n",
    "✖\n",
    " -+4.5\n",
    "\n",
    " Number must contain at least  decimal value.\n",
    "For example:\n",
    "✖\n",
    " 12.\n",
    "✔\n",
    "12.0  \n",
    "\n",
    " Number must have exactly one . symbol.\n",
    " Number must not give any exceptions when converted using ."
   ]
  },
  {
   "cell_type": "code",
   "execution_count": 22,
   "metadata": {},
   "outputs": [
    {
     "name": "stdout",
     "output_type": "stream",
     "text": [
      "False\n"
     ]
    }
   ],
   "source": [
    "# Enter your code here. Read input from STDIN. Print output to STDOUT\n",
    "# Enter your code here. Read input from STDIN. Print output to STDOUT\n",
    "import re\n",
    "n = int(input())\n",
    "\n",
    "for i in range(n):\n",
    "    x = input()\n",
    "    plus_count = len(re.findall(r'\\+', x)) + len(re.findall(r'-', x))\n",
    "    \n",
    "    \n",
    "    if plus_count > 1 or \".\" not in x :\n",
    "        print(False)\n",
    "        continue\n",
    "    elif len(re.findall(r'\\+', x)) == 1 and x[0]!=\"+\" :\n",
    "        print(False)\n",
    "        continue\n",
    "    elif len(re.findall(r'\\-', x)) == 1 and x[0]!=\"-\" :\n",
    "        print(False)\n",
    "        continue\n",
    "    y = x.split(\".\")    \n",
    "    if y[1]  == \"\":\n",
    "        print(False)\n",
    "        continue\n",
    "    \n",
    "    cleaned_string = re.sub(r'[-+]', '', x )\n",
    "    try:\n",
    "        float(cleaned_string)\n",
    "    except Exception as e:\n",
    "        print(False)\n",
    "        continue\n",
    "    print(True)"
   ]
  },
  {
   "attachments": {},
   "cell_type": "markdown",
   "metadata": {},
   "source": [
    "Let's learn some new Python concepts! You have to generate a list of the first  fibonacci numbers,  being the first number. Then, apply the map function and a lambda expression to cube each fibonacci number and print the list."
   ]
  },
  {
   "cell_type": "code",
   "execution_count": null,
   "metadata": {},
   "outputs": [],
   "source": [
    "cube = lambda x:x**3 # complete the lambda function \n",
    "\n",
    "def fibonacci(n):\n",
    "    # return a list of fibonacci numbers\n",
    "    if n >=2:\n",
    "        a = [0,1]\n",
    "        for i in range(1,n-1):\n",
    "            a.append(a[i-1] + a[i])\n",
    "        return a\n",
    "    elif n==1:\n",
    "        return [n-1]\n",
    "    else:\n",
    "        return []         \n",
    "\n",
    "if __name__ == '__main__':\n",
    "    n = int(input())\n",
    "    print(list(map(cube, fibonacci(n))))"
   ]
  },
  {
   "attachments": {},
   "cell_type": "markdown",
   "metadata": {},
   "source": [
    "You are given a string  consisting only of digits 0-9, commas ,, and dots .\n",
    "\n",
    "Your task is to complete the regex_pattern defined below, which will be used to re.split() all of the , and . symbols in .\n",
    "\n",
    "It’s guaranteed that every comma and every dot in  is preceeded and followed by a digit."
   ]
  },
  {
   "cell_type": "code",
   "execution_count": null,
   "metadata": {},
   "outputs": [],
   "source": [
    "regex_pattern = r'[,.]'\t# Do not delete 'r'.\n",
    "\n",
    "import re\n",
    "print(\"\\n\".join(re.split(regex_pattern, input())))"
   ]
  },
  {
   "attachments": {},
   "cell_type": "markdown",
   "metadata": {},
   "source": [
    "You are given an integer  followed by  email addresses. Your task is to print a list containing only valid email addresses in lexicographical order.\n",
    "\n",
    "\n",
    "Valid email addresses must follow these rules:\n",
    "\n",
    "It must have the username@websitename.extension format type.\n",
    "The username can only contain letters, digits, dashes and underscores .\n",
    "The website name can only have letters and digits .\n",
    "The extension can only contain letters .\n",
    "The maximum length of the extension is ."
   ]
  },
  {
   "cell_type": "code",
   "execution_count": null,
   "metadata": {},
   "outputs": [],
   "source": [
    "import re\n",
    "def fun(s):\n",
    "    # return True if s is a valid email, else return False\n",
    "    pattern = r'^[a-zA-Z0-9_-]+@[a-zA-Z0-9]+\\.[a-zA-Z]{1,3}$'\n",
    "    return re.match(pattern,s)\n",
    "def filter_mail(emails):\n",
    "    return list(filter(fun, emails))\n",
    "\n",
    "if __name__ == '__main__':\n",
    "    n = int(input())\n",
    "    emails = []\n",
    "    for _ in range(n):\n",
    "        emails.append(input())\n",
    "\n",
    "filtered_emails = filter_mail(emails)\n",
    "filtered_emails.sort()\n",
    "print(filtered_emails)"
   ]
  },
  {
   "attachments": {},
   "cell_type": "markdown",
   "metadata": {},
   "source": [
    "Task\n",
    "\n",
    "You are given a string .\n",
    "Your task is to find the first occurrence of an alphanumeric character in  (read from left to right) that has consecutive repetitions."
   ]
  },
  {
   "cell_type": "code",
   "execution_count": null,
   "metadata": {},
   "outputs": [],
   "source": [
    "# Enter your code here. Read input from STDIN. Print output to STDOUT\n",
    "pattern = r\"([a-zA-Z0-9])\\1+\"\n",
    "\n",
    "import re\n",
    "x = re.search( pattern , input() ) \n",
    "\n",
    "if x:\n",
    "    print(x.group(1))\n",
    "else:\n",
    "    print(-1  )"
   ]
  },
  {
   "attachments": {},
   "cell_type": "markdown",
   "metadata": {},
   "source": [
    "Task\n",
    "You are given a string . It consists of alphanumeric characters, spaces and symbols(+,-).\n",
    "Your task is to find all the substrings of  that contains  or more vowels.\n",
    "Also, these substrings must lie in between  consonants and should contain vowels only."
   ]
  },
  {
   "cell_type": "code",
   "execution_count": null,
   "metadata": {},
   "outputs": [],
   "source": [
    "\n",
    "import re\n",
    "\n",
    "\n",
    "pattern = r'(?<=[^aeiouAEIOU])[aeiouAEIOU]{2,}(?=[^aeiouAEIOU])'\n",
    "matches = re.findall(pattern, input())\n",
    "\n",
    "if matches:\n",
    "    for i in matches:\n",
    "        print(i)\n",
    "else:\n",
    "    print(-1)\n"
   ]
  },
  {
   "attachments": {},
   "cell_type": "markdown",
   "metadata": {},
   "source": [
    "Task\n",
    "You are given a string .\n",
    "Your task is to find the indices of the start and end of string  in ."
   ]
  },
  {
   "cell_type": "code",
   "execution_count": null,
   "metadata": {},
   "outputs": [],
   "source": [
    "s = input()\n",
    "m = input()\n",
    "\n",
    "import re\n",
    "\n",
    "if re.search(f'(?={m})',s):\n",
    "    for i in re.finditer(f'(?={m})',s):\n",
    "        print((i.start(),i.start()+len(m)-1))\n",
    "else:\n",
    "    print((-1,-1))"
   ]
  },
  {
   "attachments": {},
   "cell_type": "markdown",
   "metadata": {},
   "source": [
    "Print only one line containing the numerator and denominator of the product of the numbers in the list in its simplest form, i.e. numerator and denominator have no common divisor other than ."
   ]
  },
  {
   "cell_type": "code",
   "execution_count": null,
   "metadata": {},
   "outputs": [],
   "source": [
    "from fractions import Fraction\n",
    "from functools import reduce\n",
    "\n",
    "def product(fracs):\n",
    "    t = reduce( lambda x,y: Fraction(x.numerator*y.numerator , x.denominator*y.denominator) ,fracs  )\n",
    "    return t.numerator, t.denominator\n",
    "\n",
    "if __name__ == '__main__':\n",
    "    fracs = []\n",
    "    for _ in range(int(input())):\n",
    "        fracs.append(Fraction(*map(int, input().split())))\n",
    "    result = product(fracs)\n",
    "    print(*result)"
   ]
  },
  {
   "attachments": {},
   "cell_type": "markdown",
   "metadata": {},
   "source": [
    "You are given a text of  lines. The text contains && and || symbols.\n",
    "Your task is to modify those symbols to the following:\n",
    "\n",
    "&& → and\n",
    "|| → or\n",
    "Both && and || should have a space \" \" on both sides."
   ]
  },
  {
   "cell_type": "code",
   "execution_count": null,
   "metadata": {},
   "outputs": [],
   "source": [
    "import re\n",
    "n = int(input())\n",
    "\n",
    "for _ in range(n ):\n",
    "    print(re.sub(r\"(?<= )&&(?= )|(?<= )\\|\\|(?= )\", lambda z: \"and\" if z.group()==\"&&\" else \"or\", input()))"
   ]
  },
  {
   "attachments": {},
   "cell_type": "markdown",
   "metadata": {},
   "source": [
    "You are given a valid XML document, and you have to print its score. The score is calculated by the sum of the score of each element. For any element, the score is equal to the number of attributes it has.\n",
    "\n",
    "Input Format\n",
    "\n",
    "The first line contains , the number of lines in the XML document.\n",
    "The next  lines follow containing the XML document.\n",
    "\n",
    "Output Format\n",
    "\n",
    "Output a single line, the integer score of the given XML document."
   ]
  },
  {
   "cell_type": "code",
   "execution_count": null,
   "metadata": {},
   "outputs": [],
   "source": [
    "import sys\n",
    "import xml.etree.ElementTree as etree\n",
    "\n",
    "def get_attr_number(element):\n",
    "    # your code goes here\n",
    "    count = len(element.attrib)\n",
    "    for child in element:\n",
    "        count += get_attr_number(child)\n",
    "    return count\n",
    "\n",
    "if __name__ == '__main__':\n",
    "    sys.stdin.readline()\n",
    "    xml = sys.stdin.read()\n",
    "    tree = etree.ElementTree(etree.fromstring(xml))\n",
    "    root = tree.getroot()\n",
    "    print(get_attr_number(root))"
   ]
  },
  {
   "attachments": {},
   "cell_type": "markdown",
   "metadata": {},
   "source": [
    "You are given  lines of CSS code. Your task is to print all valid Hex Color Codes, in order of their occurrence from top to bottom.\n",
    "\n",
    "CSS Code Pattern\n",
    "\n",
    "Selector\n",
    "{\n",
    "\tProperty: Value;\n",
    "}\n",
    "Input Format\n",
    "\n",
    "The first line contains , the number of code lines.\n",
    "The next  lines contains CSS Codes.\n",
    "\n",
    "Constraints\n",
    "\n",
    "\n",
    "\n",
    "Output Format\n",
    "\n",
    "Output the color codes with '#' symbols on separate lines."
   ]
  },
  {
   "cell_type": "code",
   "execution_count": null,
   "metadata": {},
   "outputs": [],
   "source": [
    "import re\n",
    "\n",
    "def is_valid_hex_color_code(color_code):\n",
    "    pattern = r'(?<!^)((#[0-9A-Fa-f]{6})|(#[0-9A-Fa-f]{3}))'\n",
    "    return re.finditer(pattern, color_code) \n",
    "n = int( input() )\n",
    "\n",
    "for i in range(n):\n",
    "    x = is_valid_hex_color_code( input() )\n",
    "    for i in x:\n",
    "        print( i.group(0) )\n"
   ]
  },
  {
   "attachments": {},
   "cell_type": "markdown",
   "metadata": {},
   "source": [
    "Task\n",
    "\n",
    "You are given a 2-D array with dimensions X.\n",
    "Your task is to perform the  tool over axis  and then find the  of that result.\n",
    "\n",
    "Input Format\n",
    "\n",
    "The first line of input contains space separated values of  and .\n",
    "The next  lines contains  space separated integers.\n",
    "\n",
    "Output Format\n",
    "\n",
    "Compute the sum along axis . Then, print the product of that sum."
   ]
  },
  {
   "cell_type": "code",
   "execution_count": null,
   "metadata": {},
   "outputs": [],
   "source": [
    "import numpy as np\n",
    "\n",
    "\n",
    "\n",
    "n,m = map(int,input().split()  )\n",
    "\n",
    "x = []\n",
    "for _ in range(n):\n",
    "    x.append( list( map(int,input().split())  )  )\n",
    "    \n",
    "ar  = np.array( x )\n",
    "print(np.prod(np.sum( ar,axis  =0 ) ) )"
   ]
  },
  {
   "attachments": {},
   "cell_type": "markdown",
   "metadata": {},
   "source": [
    "You are given an HTML code snippet of  lines.\n",
    "Your task is to print start tags, end tags and empty tags separately.\n",
    "\n",
    "Format your results in the following way:\n",
    "\n",
    "Start : Tag1\n",
    "End   : Tag1\n",
    "Start : Tag2\n",
    "-> Attribute2[0] > Attribute_value2[0]\n",
    "-> Attribute2[1] > Attribute_value2[1]\n",
    "-> Attribute2[2] > Attribute_value2[2]\n",
    "Start : Tag3\n",
    "-> Attribute3[0] > None\n",
    "Empty : Tag4\n",
    "-> Attribute4[0] > Attribute_value4[0]\n",
    "End   : Tag3\n",
    "End   : Tag2\n",
    "Here, the -> symbol indicates that the tag contains an attribute. It is immediately followed by the name of the attribute and the attribute value.\n",
    "The > symbol acts as a separator of the attribute and the attribute value.\n",
    "\n",
    "If an HTML tag has no attribute then simply print the name of the tag.\n",
    "If an attribute has no attribute value then simply print the name of the attribute value as None.\n",
    "\n",
    "Note: Do not detect any HTML tag, attribute or attribute value inside the HTML comment tags (<!-- Comments -->).Comments can be multiline as well.\n",
    "\n",
    "Input Format\n",
    "\n",
    "The first line contains integer , the number of lines in a HTML code snippet.\n",
    "The next  lines contain HTML code.\n",
    "\n",
    "Constraints\n",
    "\n",
    "Output Format\n",
    "\n",
    "Print the HTML tags, attributes and attribute values in order of their occurrence from top to bottom in the given snippet.\n",
    "\n",
    "Use proper formatting as explained in the problem statement."
   ]
  },
  {
   "cell_type": "code",
   "execution_count": null,
   "metadata": {},
   "outputs": [],
   "source": [
    "# Enter your code here. Read input from STDIN. Print output to STDOUT\n",
    "from html.parser import HTMLParser\n",
    "\n",
    "# create a subclass and override the handler methods\n",
    "class MyHTMLParser(HTMLParser):\n",
    "    def handle_starttag(self, tag, attrs):\n",
    "        print (\"Start :\", tag)\n",
    "        [print(f'-> {i[0]} > {i[1]}') for i in attrs]\n",
    "    def handle_endtag(self, tag):\n",
    "        print (\"End   :\", tag)\n",
    "    def handle_startendtag(self, tag, attrs):\n",
    "        print (\"Empty :\", tag)\n",
    "        [print(f'-> {i[0]} > {i[1]}') for i in attrs]\n",
    "\n",
    "# instantiate the parser and fed it some HTML\n",
    "parser = MyHTMLParser()\n",
    "n = int( input() )\n",
    "for i in range(n):\n",
    "    parser.feed( input() )"
   ]
  },
  {
   "attachments": {},
   "cell_type": "markdown",
   "metadata": {},
   "source": [
    "You are given an HTML code snippet of  lines.\n",
    "Your task is to print the single-line comments, multi-line comments and the data.\n",
    "\n",
    "Print the result in the following format:"
   ]
  },
  {
   "cell_type": "code",
   "execution_count": null,
   "metadata": {},
   "outputs": [],
   "source": [
    "from html.parser import HTMLParser\n",
    "\n",
    "class MyHTMLParser(HTMLParser):\n",
    "    def handle_comment(self, data):\n",
    "        if '\\n' in data:\n",
    "            print('>>> Multi-line Comment', data, sep='\\n')\n",
    "        else:\n",
    "            print('>>> Single-line Comment', data, sep='\\n')\n",
    "    def handle_data(self, data):\n",
    "        if data != '\\n':\n",
    "            print('>>> Data', data, sep='\\n')\n",
    "   \n",
    "html = ''       \n",
    "for i in range(int(input())):\n",
    "    html += input().rstrip()\n",
    "    html += '\\n'\n",
    "    \n",
    "parser = MyHTMLParser()\n",
    "parser.feed(html)\n",
    "parser.close()"
   ]
  },
  {
   "attachments": {},
   "cell_type": "markdown",
   "metadata": {},
   "source": [
    "A valid UID must follow the rules below:\n",
    "\n",
    "It must contain at least 2 uppercase English alphabet characters.\n",
    "It must contain at least 3 digits .\n",
    "It should only contain alphanumeric characters ( a-z , A -Z  &  0-9 ).\n",
    "No character should repeat.\n",
    "There must be exactly 10 characters in a valid UID."
   ]
  },
  {
   "cell_type": "code",
   "execution_count": null,
   "metadata": {},
   "outputs": [],
   "source": [
    "import re\n",
    "\n",
    "\n",
    "def is_valid_uid(uid):\n",
    "    pattern = r\"^(?=(?:.*[A-Z]){2})(?=(?:.*\\d){3})(?!.*(.).*\\1)[A-Za-z0-9]{10}$\"\n",
    "    return bool(re.match(pattern, uid))\n",
    "\n",
    "for _ in range( int(input()) ):\n",
    "    if is_valid_uid(input()) :\n",
    "        print(\"Valid\")\n",
    "    else:\n",
    "        print(\"Invalid\") "
   ]
  },
  {
   "attachments": {},
   "cell_type": "markdown",
   "metadata": {},
   "source": [
    "Task\n",
    "\n",
    "You are given a X integer array matrix with space separated elements ( = rows and  = columns).\n",
    "Your task is to print the transpose and flatten results.\n",
    "\n",
    "Input Format\n",
    "\n",
    "The first line contains the space separated values of  and .\n",
    "The next  lines contains the space separated elements of  columns.\n",
    "\n",
    "Output Format\n",
    "\n",
    "First, print the transpose array and then print the flatten.\n",
    "\n"
   ]
  },
  {
   "cell_type": "code",
   "execution_count": null,
   "metadata": {},
   "outputs": [],
   "source": [
    "import numpy as np\n",
    "\n",
    "\n",
    "\n",
    "n,m = map( int, input().split() )\n",
    "x = []\n",
    "for _ in range(n):\n",
    "    x.append(list( map(int,input().split() ) ) )\n",
    "ar = np.array(x)\n",
    "print( np.transpose(ar) )\n",
    "print( ar.flatten() )"
   ]
  },
  {
   "attachments": {},
   "cell_type": "markdown",
   "metadata": {},
   "source": [
    "Task\n",
    "\n",
    "You are given two integer arrays of size X and X ( &  are rows, and  is the column). Your task is to concatenate the arrays along axis .\n",
    "\n",
    "Input Format\n",
    "\n",
    "The first line contains space separated integers ,  and .\n",
    "The next  lines contains the space separated elements of the  columns.\n",
    "After that, the next  lines contains the space separated elements of the  columns."
   ]
  },
  {
   "cell_type": "code",
   "execution_count": null,
   "metadata": {},
   "outputs": [],
   "source": [
    "import numpy as np\n",
    "\n",
    "\n",
    "\n",
    "n,m,p = map(int,input().split()  )\n",
    "x = []\n",
    "y = []\n",
    "for _ in range(n):\n",
    "    x.append( list( map(int,input().split() ))  )    \n",
    "\n",
    "for _ in range(m):\n",
    "    y.append( list( map(int,input().split() ))  )    \n",
    "    \n",
    "ar1 = np.array( x )\n",
    "ar2 = np.array( y )\n",
    "\n",
    "print( np.concatenate( (ar1,ar2),axis=0 ) ) "
   ]
  },
  {
   "attachments": {},
   "cell_type": "markdown",
   "metadata": {},
   "source": [
    "You and Fredrick are good friends. Yesterday, Fredrick received  credit cards from ABCD Bank. He wants to verify whether his credit card numbers are valid or not. You happen to be great at regex so he is asking for your help!\n",
    "\n",
    "A valid credit card from ABCD Bank has the following characteristics:\n",
    "\n",
    "► It must start with a ,  or .\n",
    "► It must contain exactly  digits.\n",
    "► It must only consist of digits (-).\n",
    "► It may have digits in groups of , separated by one hyphen \"-\".\n",
    "► It must NOT use any other separator like ' ' , '_', etc.\n",
    "► It must NOT have  or more consecutive repeated digits."
   ]
  },
  {
   "cell_type": "code",
   "execution_count": null,
   "metadata": {},
   "outputs": [],
   "source": [
    "# Enter your code here. Read input from STDIN. Print output to STDOUT\n",
    "import re \n",
    "pattern = r\"^(?!.*(\\d)(-?\\1){3})[456]\\d{3}-?\\d{4}-?\\d{4}-?\\d{4}$\"\n",
    "for _ in range(int(input())):\n",
    "    if bool(re.match(pattern,input())):\n",
    "        print(\"Valid\")\n",
    "    else:\n",
    "        print(\"Invalid\")"
   ]
  },
  {
   "attachments": {},
   "cell_type": "markdown",
   "metadata": {},
   "source": [
    "In this challenge, the task is to debug the existing code to successfully execute all provided test files.\n",
    "\n",
    "Consider that vowels in the alphabet are a, e, i, o, u and y.\n",
    "\n",
    "Function score_words takes a list of lowercase words as an argument and returns a score as follows:\n",
    "\n",
    "The score of a single word is  if the word contains an even number of vowels. Otherwise, the score of this word is . The score for the whole list of words is the sum of scores of all words in the list.\n",
    "\n",
    "Debug the given function score_words such that it returns a correct score.\n",
    "\n",
    "Your function will be tested on several cases by the locked template code."
   ]
  },
  {
   "cell_type": "code",
   "execution_count": null,
   "metadata": {},
   "outputs": [],
   "source": [
    "def is_vowel(letter):\n",
    "    return letter in ['a', 'e', 'i', 'o', 'u','y']\n",
    "\n",
    "def score_words(words):\n",
    "    score = 0\n",
    "    for word in words:\n",
    "        num_vowels = 0\n",
    "        for letter in word:\n",
    "            if is_vowel(letter):\n",
    "                num_vowels += 1\n",
    "        if num_vowels % 2 == 0:\n",
    "            score += 2\n",
    "        else:\n",
    "            score = score + 1\n",
    "      \n",
    "    return score\n",
    "\n",
    "\n",
    "n = int(input())\n",
    "words = input().split()\n",
    "print(score_words(words))"
   ]
  },
  {
   "attachments": {},
   "cell_type": "markdown",
   "metadata": {},
   "source": [
    "Debug the given function print_from_stream using the default value of one of its arguments.\n",
    "\n",
    "The function has the following signature:\n",
    "\n",
    "def print_from_stream(n, stream)\n",
    "This function should print the first  values returned by get_next() method of stream object provided as an argument. Each of these values should be printed in a separate line.\n",
    "\n",
    "Whenever the function is called without the stream argument, it should use an instance of EvenStream class defined in the code stubs below as the value of stream.\n",
    "\n",
    "Your function will be tested on several cases by the locked template code."
   ]
  },
  {
   "cell_type": "code",
   "execution_count": null,
   "metadata": {},
   "outputs": [],
   "source": [
    "class EvenStream(object):\n",
    "    def __init__(self):\n",
    "        self.current = 0\n",
    "\n",
    "    def get_next(self):\n",
    "        to_return = self.current\n",
    "        self.current += 2\n",
    "        return to_return\n",
    "\n",
    "class OddStream(object):\n",
    "    def __init__(self):\n",
    "        self.current = 1\n",
    "\n",
    "    def get_next(self):\n",
    "        to_return = self.current\n",
    "        self.current += 2\n",
    "        return to_return\n",
    "\n",
    "def print_from_stream(n, stream=EvenStream()):\n",
    "    stream.__init__()\n",
    "    for _ in range(n):\n",
    "        print(stream.get_next())\n",
    "\n",
    "\n",
    "queries = int(input())\n",
    "for _ in range(queries):\n",
    "    stream_name, n = input().split()\n",
    "    n = int(n)\n",
    "    if stream_name == \"even\":\n",
    "        print_from_stream(n)\n",
    "    else:\n",
    "        print_from_stream(n, OddStream())\n"
   ]
  },
  {
   "cell_type": "code",
   "execution_count": null,
   "metadata": {},
   "outputs": [],
   "source": []
  },
  {
   "cell_type": "code",
   "execution_count": null,
   "metadata": {},
   "outputs": [],
   "source": []
  },
  {
   "cell_type": "code",
   "execution_count": null,
   "metadata": {},
   "outputs": [],
   "source": []
  }
 ],
 "metadata": {
  "kernelspec": {
   "display_name": "Python 3",
   "language": "python",
   "name": "python3"
  },
  "language_info": {
   "codemirror_mode": {
    "name": "ipython",
    "version": 3
   },
   "file_extension": ".py",
   "mimetype": "text/x-python",
   "name": "python",
   "nbconvert_exporter": "python",
   "pygments_lexer": "ipython3",
   "version": "3.9.1"
  },
  "orig_nbformat": 4
 },
 "nbformat": 4,
 "nbformat_minor": 2
}
