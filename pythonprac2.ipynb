{
 "cells": [
  {
   "cell_type": "code",
   "execution_count": null,
   "metadata": {},
   "outputs": [],
   "source": []
  },
  {
   "attachments": {},
   "cell_type": "markdown",
   "metadata": {},
   "source": [
    "Input Format\n",
    "\n",
    "The first line of input contains an integer , the number of mobile phone numbers.\n",
    " lines follow each containing a mobile number.\n",
    "\n",
    "Output Format\n",
    "\n",
    "Print  mobile numbers on separate lines in the required format."
   ]
  },
  {
   "cell_type": "code",
   "execution_count": 13,
   "metadata": {},
   "outputs": [
    {
     "name": "stdout",
     "output_type": "stream",
     "text": [
      "+91 12345 67895\n",
      "+91 45678 92315\n"
     ]
    }
   ],
   "source": [
    "def wrapper(f):\n",
    "    def fun(l):\n",
    "        # complete the function\n",
    "        q = []\n",
    "        for i in l:\n",
    "            if len(i) >10:\n",
    "                x = len(i) - 10\n",
    "                i = i[x:]\n",
    "            q.append(i)\n",
    "        q = sorted(q)    \n",
    "        for i in q:\n",
    "            print(\"+91\",i[:5],i[5:] )\n",
    "        \n",
    "    return fun\n",
    "\n",
    "@wrapper\n",
    "def sort_phone(l):\n",
    "    print(*sorted(l), sep='\\n')\n",
    "\n",
    "if __name__ == '__main__':\n",
    "    l = [input() for _ in range(int(input()))]\n",
    "    sort_phone(l) "
   ]
  },
  {
   "attachments": {},
   "cell_type": "markdown",
   "metadata": {},
   "source": [
    "Output the space separated tuples of the cartesian product.\n",
    "\n"
   ]
  },
  {
   "cell_type": "code",
   "execution_count": 13,
   "metadata": {},
   "outputs": [
    {
     "name": "stdout",
     "output_type": "stream",
     "text": [
      "(1, 3) (1, 4) (2, 3) (2, 4)\n"
     ]
    }
   ],
   "source": [
    "from itertools import product\n",
    "inp1 =  [int(j) for j in input().split()]\n",
    "inp2 =  [int(j) for j in input().split()] \n",
    "\n",
    "\n",
    "print(  *list(product(inp1,inp2)  )  )\n"
   ]
  },
  {
   "attachments": {},
   "cell_type": "markdown",
   "metadata": {},
   "source": [
    "Raghu is a shoe shop owner. His shop has  number of shoes.\n",
    "He has a list containing the size of each shoe he has in his shop.\n",
    "There are  number of customers who are willing to pay  amount of money only if they get the shoe of their desired size.\n",
    "\n",
    "Your task is to compute how much money  earned.\n",
    "\n",
    "Input Format\n",
    "\n",
    "The first line contains , the number of shoes.\n",
    "The second line contains the space separated list of all the shoe sizes in the shop.\n",
    "The third line contains , the number of customers.\n",
    "The next  lines contain the space separated values of the  desired by the customer and , the price of the shoe."
   ]
  },
  {
   "cell_type": "code",
   "execution_count": null,
   "metadata": {},
   "outputs": [],
   "source": [
    "from collections import Counter\n",
    "\n",
    "n = int(input() )\n",
    "\n",
    "inp  = [int(i)  for i in input().split() ]\n",
    "size_avail = Counter(inp)\n",
    "\n",
    "x = int(input())\n",
    "earn = 0\n",
    "\n",
    "for i in range(x):\n",
    "    \n",
    "    size,price  = [int(i)  for i in input().split() ]\n",
    "    \n",
    "    if size in size_avail.keys():\n",
    "        if size_avail[size] > 0:\n",
    "            earn = earn + price\n",
    "            size_avail[size] = size_avail[size] -1     \n",
    "\n",
    "print(earn)"
   ]
  },
  {
   "attachments": {},
   "cell_type": "markdown",
   "metadata": {},
   "source": [
    "In this challenge, you will be given  integers,  and . There are  words, which might repeat, in word group . There are  words belonging to word group . For each  words, check whether the word has appeared in group  or not. Print the indices of each occurrence of  in group . If it does not appear, print .\n",
    "\n",
    "Example\n",
    "\n",
    "Group A contains 'a', 'b', 'a' Group B contains 'a', 'c'\n",
    "\n",
    "For the first word in group B, 'a', it appears at positions  and  in group A. The second word, 'c', does not appear in group A, so print ."
   ]
  },
  {
   "cell_type": "code",
   "execution_count": 4,
   "metadata": {},
   "outputs": [
    {
     "name": "stdout",
     "output_type": "stream",
     "text": [
      "0 2 4\n",
      "1 3\n"
     ]
    }
   ],
   "source": [
    "from collections import Counter\n",
    "\n",
    "\n",
    "n,m = [int(i)  for i in input().split()]\n",
    "\n",
    "inp1 = []\n",
    "inp2 = []\n",
    "for i in range(n):\n",
    "    inp1.append(input())\n",
    "\n",
    "for i in range(m):\n",
    "    inp2.append(input())\n",
    "\n",
    "for i in inp2:\n",
    "    if i in inp1:\n",
    "        ind = [index + 1 for index, value in enumerate(inp1) if value == i]\n",
    "        \n",
    "        print(*ind)\n",
    "    else:\n",
    "        print(\"-1\")"
   ]
  },
  {
   "attachments": {},
   "cell_type": "markdown",
   "metadata": {},
   "source": [
    "You are given a string .\n",
    "Your task is to print all possible permutations of size  of the string in lexicographic sorted order."
   ]
  },
  {
   "cell_type": "code",
   "execution_count": 5,
   "metadata": {},
   "outputs": [
    {
     "name": "stdout",
     "output_type": "stream",
     "text": [
      "ac\n",
      "ah\n",
      "ak\n",
      "ca\n",
      "ch\n",
      "ck\n",
      "ha\n",
      "hc\n",
      "hk\n",
      "ka\n",
      "kc\n",
      "kh\n"
     ]
    }
   ],
   "source": [
    "\n",
    "# Enter your code here. Read input from STDIN. Print output to STDOUT\n",
    "\n",
    "from itertools import permutations\n",
    "\n",
    "x,y =   input().split()\n",
    "\n",
    "y = int(y)\n",
    "\n",
    "x = [i for i in x]\n",
    "\n",
    "for i in sorted(list  ( permutations(x,y) )) :\n",
    "    print(\"\".join(i) )"
   ]
  },
  {
   "attachments": {},
   "cell_type": "markdown",
   "metadata": {},
   "source": [
    "You are given a string .\n",
    "Your task is to print all possible combinations, up to size , of the string in lexicographic sorted order."
   ]
  },
  {
   "cell_type": "code",
   "execution_count": 10,
   "metadata": {},
   "outputs": [
    {
     "name": "stdout",
     "output_type": "stream",
     "text": [
      "a\n",
      "c\n",
      "h\n",
      "k\n",
      "ac\n",
      "ak\n",
      "ck\n",
      "ha\n",
      "hc\n",
      "hk\n"
     ]
    }
   ],
   "source": [
    "from itertools import combinations\n",
    "\n",
    "x,y =   input().split()\n",
    "\n",
    "y = int(y)\n",
    "\n",
    "x = [i for i in x]\n",
    "\n",
    "\n",
    "p = []\n",
    "for i in range(1,y+1):\n",
    "    p = p +  list  ( combinations(  sorted(x) ,i) ) \n",
    "    \n",
    "    \n",
    "for i in p :\n",
    "    print(\"\".join(i) )"
   ]
  },
  {
   "attachments": {},
   "cell_type": "markdown",
   "metadata": {},
   "source": [
    "A single line containing the complex number . Note: complex() function can be used in python to convert the input as a complex number.?"
   ]
  },
  {
   "cell_type": "code",
   "execution_count": null,
   "metadata": {},
   "outputs": [],
   "source": [
    "\n",
    "import cmath \n",
    "\n",
    "x = input()\n",
    "\n",
    "\n",
    "print(  abs( complex(x)  )   )\n",
    "print( cmath.phase( complex(x)  )  )"
   ]
  },
  {
   "attachments": {},
   "cell_type": "markdown",
   "metadata": {},
   "source": [
    "Your task is to find  (angle MBC , as shown in the figure) in degrees."
   ]
  },
  {
   "cell_type": "code",
   "execution_count": 5,
   "metadata": {},
   "outputs": [
    {
     "name": "stdout",
     "output_type": "stream",
     "text": [
      "45°\n"
     ]
    }
   ],
   "source": [
    "\n",
    "from math import *\n",
    "\n",
    "ab = float(int(input()))\n",
    "bc = float(int(input()))\n",
    "ac = (ab**2+ bc**2)**(1/2)\n",
    "\n",
    "c =  round(degrees(acos( bc/ac   )) )\n",
    "\n",
    "\n",
    "print(str(c)+ chr(176)  )\n",
    "\n"
   ]
  },
  {
   "attachments": {},
   "cell_type": "markdown",
   "metadata": {},
   "source": [
    "You can't take more than two lines. The first line (a for-statement) is already written for you.\n",
    "You have to complete the code using exactly one print statement.\n",
    "\n",
    "Note:\n",
    "Using anything related to strings will give a score of .\n",
    "Using more than one for-statement will give a score of ."
   ]
  },
  {
   "cell_type": "code",
   "execution_count": 38,
   "metadata": {},
   "outputs": [
    {
     "name": "stdout",
     "output_type": "stream",
     "text": [
      "1\n",
      "1\n",
      "11\n",
      "121\n",
      "111\n",
      "12321\n",
      "1111\n",
      "1234321\n",
      "11111\n",
      "123454321\n"
     ]
    }
   ],
   "source": [
    "\n",
    "for i in range(1,int(input())+1): #More than 2 lines will result in 0 score. Do not leave a blank line also\n",
    "    d = 1 if i==1 else d + 10**(i-1) \n",
    "\n",
    "    print (  d**2   )"
   ]
  },
  {
   "cell_type": "code",
   "execution_count": null,
   "metadata": {},
   "outputs": [],
   "source": [
    "\n",
    "for i in range(1,int(input())+1): #More than 2 lines will result in 0 score. Do not leave a blank line also  \n",
    "    print (  (10 ** i - 1) ** 2 // 81    )"
   ]
  },
  {
   "attachments": {},
   "cell_type": "markdown",
   "metadata": {},
   "source": [
    "Now, let's use our knowledge of sets and help Mickey.\n",
    "\n",
    "Ms. Gabriel Williams is a botany professor at District College. One day, she asked her student Mickey to compute the average of all the plants with distinct heights in her greenhouse."
   ]
  },
  {
   "cell_type": "code",
   "execution_count": null,
   "metadata": {},
   "outputs": [],
   "source": [
    "def average(array):\n",
    "    # your code goes here\n",
    "    s = set(array)\n",
    "    avg = round(float(sum(s))/float(len(s)) ,3)\n",
    "    return avg\n",
    "\n",
    "if __name__ == '__main__':\n",
    "    n = int(input())\n",
    "    arr = list(map(int, input().split()))\n",
    "    result = average(arr)\n",
    "    print(result)"
   ]
  },
  {
   "attachments": {},
   "cell_type": "markdown",
   "metadata": {},
   "source": [
    "Print the day of given date"
   ]
  },
  {
   "cell_type": "code",
   "execution_count": null,
   "metadata": {},
   "outputs": [],
   "source": [
    "\n",
    "import calendar\n",
    "\n",
    "m,d,y = input().split()\n",
    "\n",
    "x = calendar.weekday(int(y),int(m),int(d) )  \n",
    "print(list(calendar.day_name)[x].upper()  ) "
   ]
  },
  {
   "attachments": {},
   "cell_type": "markdown",
   "metadata": {},
   "source": [
    "When users post an update on social media,such as a URL, image, status update etc., other users in their network are able to view this new post on their news feed. Users can also see exactly when the post was published, i.e, how many hours, minutes or seconds ago.\n",
    "\n",
    "Since sometimes posts are published and viewed in different time zones, this can be confusing. You are given two timestamps of one such post that a user can see on his newsfeed in the following format:\n",
    "\n",
    "Day dd Mon yyyy hh:mm:ss +xxxx\n",
    "\n",
    "Here +xxxx represents the time zone. Your task is to print the absolute difference (in seconds) between them."
   ]
  },
  {
   "cell_type": "code",
   "execution_count": 23,
   "metadata": {},
   "outputs": [
    {
     "name": "stdout",
     "output_type": "stream",
     "text": [
      "2015-05-02 14:24:36+00:00\n",
      "2015-05-01 13:54:36+00:00\n",
      "88200\n",
      "0.0\n",
      "The timezone difference is 1 days, 0 hours, and 30 minutes.\n"
     ]
    }
   ],
   "source": [
    "#!/bin/python3\n",
    "\n",
    "import math\n",
    "import os\n",
    "import random\n",
    "import re\n",
    "import sys\n",
    "from datetime import datetime,timezone\n",
    "\n",
    "\n",
    "\n",
    "# Complete the time_delta function below.\n",
    "def time_delta(t1, t2):\n",
    "    \n",
    "    datetime_format = \"%a %d %b %Y %H:%M:%S %z\"\n",
    "    dt1 = datetime.strptime(t1, datetime_format)\n",
    "    dt2 = datetime.strptime(t2, datetime_format)\n",
    "    df = dt2 - dt1\n",
    "        \n",
    "    # Calculate the timezone difference\n",
    "    dt1 = dt1.astimezone(timezone.utc) \n",
    "    dt2 = dt2.astimezone(timezone.utc)\n",
    "    print(dt1)\n",
    "    print(dt2)\n",
    "    \n",
    "    if dt1>dt2:\n",
    "        return str  (abs((dt1-dt2).days*24*60*60 + (dt1-dt2).seconds ))\n",
    "    else:\n",
    "        return str   (abs(  (dt1-dt2).days*24*60*60 + (dt1-dt2).seconds  ) )\n",
    "    \n",
    "         \n",
    "         \n",
    "         \n",
    "\n",
    "if __name__ == '__main__':\n",
    "    fptr = open(os.environ['OUTPUT_PATH'], 'w')\n",
    "\n",
    "    t = int(input())\n",
    "\n",
    "    for t_itr in range(t):\n",
    "        t1 = input()\n",
    "\n",
    "        t2 = input()\n",
    "\n",
    "        delta = time_delta(t1, t2)\n",
    "\n",
    "        fptr.write(delta + '\\n')\n",
    "\n",
    "    fptr.close()\n"
   ]
  },
  {
   "attachments": {},
   "cell_type": "markdown",
   "metadata": {},
   "source": [
    "The statements try and except can be used to handle selected exceptions. A try statement may have more than one except clause to specify handlers for different exceptions.\n",
    "The first line contains , the number of test cases.\n",
    "The next  lines each contain the space separated values of  and ."
   ]
  },
  {
   "cell_type": "code",
   "execution_count": null,
   "metadata": {},
   "outputs": [],
   "source": [
    "# Enter your code here. Read input from STDIN. Print output to STDOUT\n",
    "\n",
    "n = int(input())\n",
    "\n",
    "for i in range(n):\n",
    "    num,den = input().split()\n",
    "    try:\n",
    "        print(  int(num)//int(den)  )\n",
    "    except ZeroDivisionError as e:\n",
    "        print( \"Error Code: integer division or modulo by zero\"  )\n",
    "    except Exception as e:\n",
    "        print( \"Error Code:\",e  )\n",
    "        "
   ]
  },
  {
   "attachments": {},
   "cell_type": "markdown",
   "metadata": {},
   "source": [
    "Your task is to find out whether  is a valid regex or not. Use PyPy3 complier"
   ]
  },
  {
   "cell_type": "code",
   "execution_count": 3,
   "metadata": {},
   "outputs": [
    {
     "data": {
      "text/plain": [
       "'ssfsf'"
      ]
     },
     "execution_count": 3,
     "metadata": {},
     "output_type": "execute_result"
    }
   ],
   "source": [
    "import re\n",
    "\n",
    "test_string = 'test_string'\n",
    "T=int(input())\n",
    "for t in range(T):\n",
    "    pattern = input()\n",
    "\n",
    "    try:\n",
    "        result = re.match(pattern, test_string)\n",
    "        print (\"True\")\n",
    "    except Exception:\n",
    "        print (\"False\")"
   ]
  },
  {
   "attachments": {},
   "cell_type": "markdown",
   "metadata": {},
   "source": [
    "Regular Expression for a number starting with 7 8 or 9 and has 10 digits"
   ]
  },
  {
   "cell_type": "code",
   "execution_count": 7,
   "metadata": {},
   "outputs": [
    {
     "name": "stdout",
     "output_type": "stream",
     "text": [
      "No\n",
      "No\n",
      "No\n"
     ]
    }
   ],
   "source": [
    "import re\n",
    "pattern = r'^(7|8|9)\\d{9}$'\n",
    "\n",
    "n = int(input())\n",
    "\n",
    "for i in range(n):\n",
    "    if re.match(pattern, input() ):\n",
    "        print(\"YES\")\n",
    "    else:\n",
    "        print(\"NO\")"
   ]
  },
  {
   "attachments": {},
   "cell_type": "markdown",
   "metadata": {},
   "source": [
    "The first line contains a single integer, , denoting the number of email address.\n",
    "Each line  of the  subsequent lines contains a name and an email address as two space-separated values following this format:\n",
    "Print the space-separated name and email address pairs containing valid email addresses only. Each pair must be printed on a new line in the following format:"
   ]
  },
  {
   "cell_type": "code",
   "execution_count": null,
   "metadata": {},
   "outputs": [],
   "source": [
    "\n",
    "import email.utils\n",
    "import re\n",
    "\n",
    "\n",
    "n = int(input())\n",
    "pattern = r'[a-zA-Z]+\\s<[a-z]+[\\w._-]{0,}@[a-z]+\\.[a-z]{1,3}>'\n",
    "for i in range(n):\n",
    "    y = input()\n",
    "    x = email.utils.parseaddr(y)\n",
    "    \n",
    "    if re.search(pattern, y ):\n",
    "        print (y)"
   ]
  },
  {
   "attachments": {},
   "cell_type": "markdown",
   "metadata": {},
   "source": [
    "There is an array of  integers. There are also  disjoint sets,  and , each containing  integers. You like all the integers in set  and dislike all the integers in set . Your initial happiness is . For each  integer in the array, if , you add  to your happiness. If , you add  to your happiness. Otherwise, your happiness does not change. Output your final happiness at the end.\n",
    "\n",
    "Note: Since  and  are sets, they have no repeated elements. However, the array might contain duplicate elements."
   ]
  },
  {
   "cell_type": "code",
   "execution_count": null,
   "metadata": {},
   "outputs": [],
   "source": [
    "\n",
    "\n",
    "n,m =  map(int, input().split())\n",
    "\n",
    "x = list(map(int, input().split()))\n",
    "\n",
    "a = set(map(int, input().split()))\n",
    "b = set(map(int, input().split()))\n",
    "\n",
    "happy = 0\n",
    "\n",
    "\n",
    "\n",
    "for i in x:\n",
    "    if i in a:\n",
    "        happy = happy +  1\n",
    "    elif i in b:\n",
    "        happy = happy - 1\n",
    "   \n",
    "        \n",
    "print(happy)"
   ]
  },
  {
   "attachments": {},
   "cell_type": "markdown",
   "metadata": {},
   "source": [
    "If we want to add a single element to an existing set, we can use the .add() operation.\n",
    "It adds the element to the set and returns 'None'."
   ]
  },
  {
   "cell_type": "code",
   "execution_count": null,
   "metadata": {},
   "outputs": [],
   "source": [
    "n = int(input())\n",
    "s =set()\n",
    "for i in range(n):\n",
    "    s.add(input())\n",
    "    \n",
    "print(len(s))\n",
    "    "
   ]
  },
  {
   "attachments": {},
   "cell_type": "markdown",
   "metadata": {},
   "source": [
    "The first line contains integer , the number of elements in the set .\n",
    "The second line contains  space separated elements of set . All of the elements are non-negative integers, less than or equal to 9.\n",
    "The third line contains integer , the number of commands.\n",
    "The next  lines contains either pop, remove and/or discard commands followed by their associated value."
   ]
  },
  {
   "cell_type": "code",
   "execution_count": 1,
   "metadata": {},
   "outputs": [
    {
     "data": {
      "text/plain": [
       "['pop']"
      ]
     },
     "execution_count": 1,
     "metadata": {},
     "output_type": "execute_result"
    }
   ],
   "source": [
    "n = int(input())\n",
    "\n",
    "s = set(map(int, input().split()))\n",
    "\n",
    "n = int(input())\n",
    "\n",
    "for i in range(n):\n",
    "    inp = input().split()\n",
    "    if inp[0] == \"pop\":\n",
    "        s.pop()\n",
    "    elif inp[0] == \"remove\":\n",
    "        n = int(inp[1])\n",
    "        s.remove(n)\n",
    "    elif inp[0] == \"discard\":\n",
    "        n = int(inp[1])\n",
    "        s.discard(n)\n",
    "    \n",
    "print( sum(s) )"
   ]
  }
 ],
 "metadata": {
  "kernelspec": {
   "display_name": "Python 3",
   "language": "python",
   "name": "python3"
  },
  "language_info": {
   "codemirror_mode": {
    "name": "ipython",
    "version": 3
   },
   "file_extension": ".py",
   "mimetype": "text/x-python",
   "name": "python",
   "nbconvert_exporter": "python",
   "pygments_lexer": "ipython3",
   "version": "3.9.1"
  },
  "orig_nbformat": 4
 },
 "nbformat": 4,
 "nbformat_minor": 2
}
