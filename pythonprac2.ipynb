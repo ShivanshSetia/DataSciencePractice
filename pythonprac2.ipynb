{
 "cells": [
  {
   "cell_type": "code",
   "execution_count": null,
   "metadata": {},
   "outputs": [],
   "source": []
  },
  {
   "attachments": {},
   "cell_type": "markdown",
   "metadata": {},
   "source": [
    "Input Format\n",
    "\n",
    "The first line of input contains an integer , the number of mobile phone numbers.\n",
    " lines follow each containing a mobile number.\n",
    "\n",
    "Output Format\n",
    "\n",
    "Print  mobile numbers on separate lines in the required format."
   ]
  },
  {
   "cell_type": "code",
   "execution_count": 13,
   "metadata": {},
   "outputs": [
    {
     "name": "stdout",
     "output_type": "stream",
     "text": [
      "+91 12345 67895\n",
      "+91 45678 92315\n"
     ]
    }
   ],
   "source": [
    "def wrapper(f):\n",
    "    def fun(l):\n",
    "        # complete the function\n",
    "        q = []\n",
    "        for i in l:\n",
    "            if len(i) >10:\n",
    "                x = len(i) - 10\n",
    "                i = i[x:]\n",
    "            q.append(i)\n",
    "        q = sorted(q)    \n",
    "        for i in q:\n",
    "            print(\"+91\",i[:5],i[5:] )\n",
    "        \n",
    "    return fun\n",
    "\n",
    "@wrapper\n",
    "def sort_phone(l):\n",
    "    print(*sorted(l), sep='\\n')\n",
    "\n",
    "if __name__ == '__main__':\n",
    "    l = [input() for _ in range(int(input()))]\n",
    "    sort_phone(l) "
   ]
  },
  {
   "attachments": {},
   "cell_type": "markdown",
   "metadata": {},
   "source": [
    "Output the space separated tuples of the cartesian product.\n",
    "\n"
   ]
  },
  {
   "cell_type": "code",
   "execution_count": 13,
   "metadata": {},
   "outputs": [
    {
     "name": "stdout",
     "output_type": "stream",
     "text": [
      "(1, 3) (1, 4) (2, 3) (2, 4)\n"
     ]
    }
   ],
   "source": [
    "from itertools import product\n",
    "inp1 =  [int(j) for j in input().split()]\n",
    "inp2 =  [int(j) for j in input().split()] \n",
    "\n",
    "\n",
    "print(  *list(product(inp1,inp2)  )  )\n"
   ]
  },
  {
   "attachments": {},
   "cell_type": "markdown",
   "metadata": {},
   "source": [
    "Raghu is a shoe shop owner. His shop has  number of shoes.\n",
    "He has a list containing the size of each shoe he has in his shop.\n",
    "There are  number of customers who are willing to pay  amount of money only if they get the shoe of their desired size.\n",
    "\n",
    "Your task is to compute how much money  earned.\n",
    "\n",
    "Input Format\n",
    "\n",
    "The first line contains , the number of shoes.\n",
    "The second line contains the space separated list of all the shoe sizes in the shop.\n",
    "The third line contains , the number of customers.\n",
    "The next  lines contain the space separated values of the  desired by the customer and , the price of the shoe."
   ]
  },
  {
   "cell_type": "code",
   "execution_count": null,
   "metadata": {},
   "outputs": [],
   "source": [
    "from collections import Counter\n",
    "\n",
    "n = int(input() )\n",
    "\n",
    "inp  = [int(i)  for i in input().split() ]\n",
    "size_avail = Counter(inp)\n",
    "\n",
    "x = int(input())\n",
    "earn = 0\n",
    "\n",
    "for i in range(x):\n",
    "    \n",
    "    size,price  = [int(i)  for i in input().split() ]\n",
    "    \n",
    "    if size in size_avail.keys():\n",
    "        if size_avail[size] > 0:\n",
    "            earn = earn + price\n",
    "            size_avail[size] = size_avail[size] -1     \n",
    "\n",
    "print(earn)"
   ]
  },
  {
   "attachments": {},
   "cell_type": "markdown",
   "metadata": {},
   "source": [
    "In this challenge, you will be given  integers,  and . There are  words, which might repeat, in word group . There are  words belonging to word group . For each  words, check whether the word has appeared in group  or not. Print the indices of each occurrence of  in group . If it does not appear, print .\n",
    "\n",
    "Example\n",
    "\n",
    "Group A contains 'a', 'b', 'a' Group B contains 'a', 'c'\n",
    "\n",
    "For the first word in group B, 'a', it appears at positions  and  in group A. The second word, 'c', does not appear in group A, so print ."
   ]
  },
  {
   "cell_type": "code",
   "execution_count": 4,
   "metadata": {},
   "outputs": [
    {
     "name": "stdout",
     "output_type": "stream",
     "text": [
      "0 2 4\n",
      "1 3\n"
     ]
    }
   ],
   "source": [
    "from collections import Counter\n",
    "\n",
    "\n",
    "n,m = [int(i)  for i in input().split()]\n",
    "\n",
    "inp1 = []\n",
    "inp2 = []\n",
    "for i in range(n):\n",
    "    inp1.append(input())\n",
    "\n",
    "for i in range(m):\n",
    "    inp2.append(input())\n",
    "\n",
    "for i in inp2:\n",
    "    if i in inp1:\n",
    "        ind = [index + 1 for index, value in enumerate(inp1) if value == i]\n",
    "        \n",
    "        print(*ind)\n",
    "    else:\n",
    "        print(\"-1\")"
   ]
  },
  {
   "attachments": {},
   "cell_type": "markdown",
   "metadata": {},
   "source": [
    "You are given a string .\n",
    "Your task is to print all possible permutations of size  of the string in lexicographic sorted order."
   ]
  },
  {
   "cell_type": "code",
   "execution_count": 5,
   "metadata": {},
   "outputs": [
    {
     "name": "stdout",
     "output_type": "stream",
     "text": [
      "ac\n",
      "ah\n",
      "ak\n",
      "ca\n",
      "ch\n",
      "ck\n",
      "ha\n",
      "hc\n",
      "hk\n",
      "ka\n",
      "kc\n",
      "kh\n"
     ]
    }
   ],
   "source": [
    "\n",
    "# Enter your code here. Read input from STDIN. Print output to STDOUT\n",
    "\n",
    "from itertools import permutations\n",
    "\n",
    "x,y =   input().split()\n",
    "\n",
    "y = int(y)\n",
    "\n",
    "x = [i for i in x]\n",
    "\n",
    "for i in sorted(list  ( permutations(x,y) )) :\n",
    "    print(\"\".join(i) )"
   ]
  },
  {
   "attachments": {},
   "cell_type": "markdown",
   "metadata": {},
   "source": [
    "You are given a string .\n",
    "Your task is to print all possible combinations, up to size , of the string in lexicographic sorted order."
   ]
  },
  {
   "cell_type": "code",
   "execution_count": 10,
   "metadata": {},
   "outputs": [
    {
     "name": "stdout",
     "output_type": "stream",
     "text": [
      "a\n",
      "c\n",
      "h\n",
      "k\n",
      "ac\n",
      "ak\n",
      "ck\n",
      "ha\n",
      "hc\n",
      "hk\n"
     ]
    }
   ],
   "source": [
    "from itertools import combinations\n",
    "\n",
    "x,y =   input().split()\n",
    "\n",
    "y = int(y)\n",
    "\n",
    "x = [i for i in x]\n",
    "\n",
    "\n",
    "p = []\n",
    "for i in range(1,y+1):\n",
    "    p = p +  list  ( combinations(  sorted(x) ,i) ) \n",
    "    \n",
    "    \n",
    "for i in p :\n",
    "    print(\"\".join(i) )"
   ]
  },
  {
   "attachments": {},
   "cell_type": "markdown",
   "metadata": {},
   "source": [
    "A single line containing the complex number . Note: complex() function can be used in python to convert the input as a complex number.?"
   ]
  },
  {
   "cell_type": "code",
   "execution_count": null,
   "metadata": {},
   "outputs": [],
   "source": [
    "\n",
    "import cmath \n",
    "\n",
    "x = input()\n",
    "\n",
    "\n",
    "print(  abs( complex(x)  )   )\n",
    "print( cmath.phase( complex(x)  )  )"
   ]
  },
  {
   "cell_type": "code",
   "execution_count": null,
   "metadata": {},
   "outputs": [],
   "source": []
  },
  {
   "cell_type": "code",
   "execution_count": null,
   "metadata": {},
   "outputs": [],
   "source": [
    "\n",
    "\n",
    "\n"
   ]
  }
 ],
 "metadata": {
  "kernelspec": {
   "display_name": "Python 3",
   "language": "python",
   "name": "python3"
  },
  "language_info": {
   "codemirror_mode": {
    "name": "ipython",
    "version": 3
   },
   "file_extension": ".py",
   "mimetype": "text/x-python",
   "name": "python",
   "nbconvert_exporter": "python",
   "pygments_lexer": "ipython3",
   "version": "3.9.1"
  },
  "orig_nbformat": 4
 },
 "nbformat": 4,
 "nbformat_minor": 2
}
