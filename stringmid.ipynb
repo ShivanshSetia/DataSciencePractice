{
 "cells": [
  {
   "attachments": {},
   "cell_type": "markdown",
   "metadata": {},
   "source": [
    "Consider the following:\n",
    "\n",
    "A string, , of length  where .\n",
    "An integer, , where  is a factor of .\n",
    "We can split  into  substrings where each subtring, , consists of a contiguous block of  characters in . Then, use each  to create string  such that:\n",
    "\n",
    "The characters in  are a subsequence of the characters in .\n",
    "Any repeat occurrence of a character is removed from the string such that each character in  occurs exactly once. In other words, if the character at some index  in  occurs at a previous index  in , then do not include the character in string .\n",
    "Given  and , print  lines where each line  denotes string .\n",
    "\n",
    "Function Description\n",
    "\n",
    "Complete the merge_the_tools function in the editor below.\n",
    "\n",
    "merge_the_tools has the following parameters:\n",
    "\n",
    "string s: the string to analyze\n",
    "int k: the size of substrings to analyze\n",
    "Prints\n",
    "\n",
    "Print each subsequence on a new line. There will be  of them. No return value is expected."
   ]
  },
  {
   "cell_type": "code",
   "execution_count": 34,
   "metadata": {},
   "outputs": [],
   "source": [
    "def merge_the_tools(string, k):\n",
    "    # your code goes here\n",
    "    n = len(string)\n",
    "    j = int(n/k)\n",
    "    test = string\n",
    "    for i in range( j ):\n",
    "        x = test[:k]\n",
    "        test = test[k:]\n",
    "        final = []\n",
    "        already_added = []\n",
    "        for i in x:\n",
    "            q = x.replace(i,\"\",1)\n",
    "            \n",
    "            if i in [*q] :\n",
    "                if i not in already_added:\n",
    "                    already_added.append(i)\n",
    "                    final.append(i)\n",
    "            else:\n",
    "                final.append(i)\n",
    "            \n",
    "        print(\"\".join(final))\n",
    "        "
   ]
  },
  {
   "cell_type": "code",
   "execution_count": 35,
   "metadata": {},
   "outputs": [
    {
     "name": "stdout",
     "output_type": "stream",
     "text": [
      "ABC\n",
      "AD\n",
      "AB\n"
     ]
    }
   ],
   "source": [
    "merge_the_tools(\"ABCAADABB\",3)"
   ]
  },
  {
   "cell_type": "code",
   "execution_count": null,
   "metadata": {},
   "outputs": [],
   "source": []
  },
  {
   "cell_type": "code",
   "execution_count": null,
   "metadata": {},
   "outputs": [],
   "source": []
  }
 ],
 "metadata": {
  "kernelspec": {
   "display_name": "Python 3",
   "language": "python",
   "name": "python3"
  },
  "language_info": {
   "codemirror_mode": {
    "name": "ipython",
    "version": 3
   },
   "file_extension": ".py",
   "mimetype": "text/x-python",
   "name": "python",
   "nbconvert_exporter": "python",
   "pygments_lexer": "ipython3",
   "version": "3.9.1"
  },
  "orig_nbformat": 4
 },
 "nbformat": 4,
 "nbformat_minor": 2
}
